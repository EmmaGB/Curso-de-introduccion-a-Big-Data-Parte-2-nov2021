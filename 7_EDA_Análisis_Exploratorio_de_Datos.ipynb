{
  "nbformat": 4,
  "nbformat_minor": 0,
  "metadata": {
    "kernelspec": {
      "display_name": "Python 3",
      "language": "python",
      "name": "python3"
    },
    "language_info": {
      "codemirror_mode": {
        "name": "ipython",
        "version": 3
      },
      "file_extension": ".py",
      "mimetype": "text/x-python",
      "name": "python",
      "nbconvert_exporter": "python",
      "pygments_lexer": "ipython3",
      "version": "3.6.9"
    },
    "colab": {
      "name": "Ejercicio_EDA.ipynb",
      "provenance": [],
      "include_colab_link": true
    }
  },
  "cells": [
    {
      "cell_type": "markdown",
      "metadata": {
        "id": "view-in-github",
        "colab_type": "text"
      },
      "source": [
        "<a href=\"https://colab.research.google.com/github/alberto1971/Curso-de-introduccion-a-Big-Data-Parte-2-nov2021/blob/main/7_EDA_An%C3%A1lisis_Exploratorio_de_Datos.ipynb\" target=\"_parent\"><img src=\"https://colab.research.google.com/assets/colab-badge.svg\" alt=\"Open In Colab\"/></a>"
      ]
    },
    {
      "cell_type": "markdown",
      "metadata": {
        "id": "MW4ULQ7qMXkX"
      },
      "source": [
        "# EDA: Análisis Exploratorio de Datos"
      ]
    },
    {
      "cell_type": "code",
      "metadata": {
        "ExecuteTime": {
          "end_time": "2019-12-08T22:02:37.412568Z",
          "start_time": "2019-12-08T22:02:37.407961Z"
        },
        "id": "lbDxdUXsMXkb",
        "colab": {
          "base_uri": "https://localhost:8080/"
        },
        "outputId": "52aafe3d-5a54-4d73-ddaa-856283e442f9"
      },
      "source": [
        "import pandas as pd\n",
        "import numpy as np\n",
        "import matplotlib.pyplot as plt\n",
        "import statsmodels.api as sm\n"
      ],
      "execution_count": 1,
      "outputs": [
        {
          "output_type": "stream",
          "name": "stderr",
          "text": [
            "/usr/local/lib/python3.7/dist-packages/statsmodels/tools/_testing.py:19: FutureWarning: pandas.util.testing is deprecated. Use the functions in the public API at pandas.testing instead.\n",
            "  import pandas.util.testing as tm\n"
          ]
        }
      ]
    },
    {
      "cell_type": "markdown",
      "metadata": {
        "id": "TGr9VcGeMXkc"
      },
      "source": [
        "## Carga de archivo csv desde una URL"
      ]
    },
    {
      "cell_type": "code",
      "metadata": {
        "ExecuteTime": {
          "end_time": "2019-12-08T22:02:38.571087Z",
          "start_time": "2019-12-08T22:02:37.416370Z"
        },
        "id": "UULb_m3NMXkc",
        "colab": {
          "base_uri": "https://localhost:8080/"
        },
        "outputId": "633a34f8-1d85-463d-cd91-37647430177f"
      },
      "source": [
        "url = 'https://raw.githubusercontent.com/lorey/list-of-countries/master/csv/countries.csv'\n",
        "df = pd.read_csv(url, sep=\";\") #index_col=0\n",
        "print(df.head(5))"
      ],
      "execution_count": 2,
      "outputs": [
        {
          "output_type": "stream",
          "name": "stdout",
          "text": [
            "  alpha_2 alpha_3      area  ... postal_code_format postal_code_regex  tld\n",
            "0      AD     AND     468.0  ...              AD###  ^(?:AD)*(\\d{3})$  .ad\n",
            "1      AE     ARE   82880.0  ...                NaN               NaN  .ae\n",
            "2      AF     AFG  647500.0  ...                NaN               NaN  .af\n",
            "3      AG     ATG     443.0  ...                NaN               NaN  .ag\n",
            "4      AI     AIA     102.0  ...                NaN               NaN  .ai\n",
            "\n",
            "[5 rows x 19 columns]\n"
          ]
        }
      ]
    },
    {
      "cell_type": "markdown",
      "metadata": {
        "id": "xAB-3w0QMXkd"
      },
      "source": [
        "## Conocer información básica"
      ]
    },
    {
      "cell_type": "code",
      "metadata": {
        "ExecuteTime": {
          "end_time": "2019-12-08T23:09:35.570049Z",
          "start_time": "2019-12-08T23:09:35.562245Z"
        },
        "id": "PYeU5Uy7MXke",
        "colab": {
          "base_uri": "https://localhost:8080/"
        },
        "outputId": "1d7d0bc5-fa22-4db7-f847-168d2172ec6b"
      },
      "source": [
        "print('Cantidad de Filas y columnas:',df.shape)\n",
        "print('Nombre columnas:',df.columns)"
      ],
      "execution_count": 3,
      "outputs": [
        {
          "output_type": "stream",
          "name": "stdout",
          "text": [
            "Cantidad de Filas y columnas: (252, 19)\n",
            "Nombre columnas: Index(['alpha_2', 'alpha_3', 'area', 'capital', 'continent', 'currency_code',\n",
            "       'currency_name', 'eqivalent_fips_code', 'fips', 'geoname_id',\n",
            "       'languages', 'name', 'neighbours', 'numeric', 'phone', 'population',\n",
            "       'postal_code_format', 'postal_code_regex', 'tld'],\n",
            "      dtype='object')\n"
          ]
        }
      ]
    },
    {
      "cell_type": "code",
      "metadata": {
        "ExecuteTime": {
          "end_time": "2019-12-08T22:02:38.606905Z",
          "start_time": "2019-12-08T22:02:38.587047Z"
        },
        "id": "-9n0-wh9MXke",
        "colab": {
          "base_uri": "https://localhost:8080/"
        },
        "outputId": "85476d5a-7a79-43ab-bc98-d2c702be4300"
      },
      "source": [
        "df.info()"
      ],
      "execution_count": 4,
      "outputs": [
        {
          "output_type": "stream",
          "name": "stdout",
          "text": [
            "<class 'pandas.core.frame.DataFrame'>\n",
            "RangeIndex: 252 entries, 0 to 251\n",
            "Data columns (total 19 columns):\n",
            " #   Column               Non-Null Count  Dtype  \n",
            "---  ------               --------------  -----  \n",
            " 0   alpha_2              251 non-null    object \n",
            " 1   alpha_3              252 non-null    object \n",
            " 2   area                 252 non-null    float64\n",
            " 3   capital              246 non-null    object \n",
            " 4   continent            210 non-null    object \n",
            " 5   currency_code        251 non-null    object \n",
            " 6   currency_name        251 non-null    object \n",
            " 7   eqivalent_fips_code  1 non-null      object \n",
            " 8   fips                 249 non-null    object \n",
            " 9   geoname_id           252 non-null    int64  \n",
            " 10  languages            249 non-null    object \n",
            " 11  name                 252 non-null    object \n",
            " 12  neighbours           165 non-null    object \n",
            " 13  numeric              252 non-null    int64  \n",
            " 14  phone                247 non-null    object \n",
            " 15  population           252 non-null    int64  \n",
            " 16  postal_code_format   154 non-null    object \n",
            " 17  postal_code_regex    152 non-null    object \n",
            " 18  tld                  250 non-null    object \n",
            "dtypes: float64(1), int64(3), object(15)\n",
            "memory usage: 37.5+ KB\n"
          ]
        }
      ]
    },
    {
      "cell_type": "code",
      "metadata": {
        "ExecuteTime": {
          "end_time": "2019-12-08T22:02:38.666169Z",
          "start_time": "2019-12-08T22:02:38.613732Z"
        },
        "id": "8Kq9crpxMXkf",
        "colab": {
          "base_uri": "https://localhost:8080/",
          "height": 297
        },
        "outputId": "92829cce-e760-46eb-82cd-7281c3193faa"
      },
      "source": [
        "df.describe()"
      ],
      "execution_count": 5,
      "outputs": [
        {
          "output_type": "execute_result",
          "data": {
            "text/html": [
              "<div>\n",
              "<style scoped>\n",
              "    .dataframe tbody tr th:only-of-type {\n",
              "        vertical-align: middle;\n",
              "    }\n",
              "\n",
              "    .dataframe tbody tr th {\n",
              "        vertical-align: top;\n",
              "    }\n",
              "\n",
              "    .dataframe thead th {\n",
              "        text-align: right;\n",
              "    }\n",
              "</style>\n",
              "<table border=\"1\" class=\"dataframe\">\n",
              "  <thead>\n",
              "    <tr style=\"text-align: right;\">\n",
              "      <th></th>\n",
              "      <th>area</th>\n",
              "      <th>geoname_id</th>\n",
              "      <th>numeric</th>\n",
              "      <th>population</th>\n",
              "    </tr>\n",
              "  </thead>\n",
              "  <tbody>\n",
              "    <tr>\n",
              "      <th>count</th>\n",
              "      <td>2.520000e+02</td>\n",
              "      <td>2.520000e+02</td>\n",
              "      <td>252.000000</td>\n",
              "      <td>2.520000e+02</td>\n",
              "    </tr>\n",
              "    <tr>\n",
              "      <th>mean</th>\n",
              "      <td>5.952879e+05</td>\n",
              "      <td>2.427870e+06</td>\n",
              "      <td>434.309524</td>\n",
              "      <td>2.727679e+07</td>\n",
              "    </tr>\n",
              "    <tr>\n",
              "      <th>std</th>\n",
              "      <td>1.904818e+06</td>\n",
              "      <td>1.632093e+06</td>\n",
              "      <td>254.663139</td>\n",
              "      <td>1.164127e+08</td>\n",
              "    </tr>\n",
              "    <tr>\n",
              "      <th>min</th>\n",
              "      <td>0.000000e+00</td>\n",
              "      <td>4.951800e+04</td>\n",
              "      <td>0.000000</td>\n",
              "      <td>0.000000e+00</td>\n",
              "    </tr>\n",
              "    <tr>\n",
              "      <th>25%</th>\n",
              "      <td>1.098000e+03</td>\n",
              "      <td>1.163774e+06</td>\n",
              "      <td>217.000000</td>\n",
              "      <td>1.879528e+05</td>\n",
              "    </tr>\n",
              "    <tr>\n",
              "      <th>50%</th>\n",
              "      <td>6.489450e+04</td>\n",
              "      <td>2.367967e+06</td>\n",
              "      <td>436.000000</td>\n",
              "      <td>4.268583e+06</td>\n",
              "    </tr>\n",
              "    <tr>\n",
              "      <th>75%</th>\n",
              "      <td>3.622245e+05</td>\n",
              "      <td>3.478296e+06</td>\n",
              "      <td>652.500000</td>\n",
              "      <td>1.536688e+07</td>\n",
              "    </tr>\n",
              "    <tr>\n",
              "      <th>max</th>\n",
              "      <td>1.710000e+07</td>\n",
              "      <td>8.505033e+06</td>\n",
              "      <td>894.000000</td>\n",
              "      <td>1.330044e+09</td>\n",
              "    </tr>\n",
              "  </tbody>\n",
              "</table>\n",
              "</div>"
            ],
            "text/plain": [
              "               area    geoname_id     numeric    population\n",
              "count  2.520000e+02  2.520000e+02  252.000000  2.520000e+02\n",
              "mean   5.952879e+05  2.427870e+06  434.309524  2.727679e+07\n",
              "std    1.904818e+06  1.632093e+06  254.663139  1.164127e+08\n",
              "min    0.000000e+00  4.951800e+04    0.000000  0.000000e+00\n",
              "25%    1.098000e+03  1.163774e+06  217.000000  1.879528e+05\n",
              "50%    6.489450e+04  2.367967e+06  436.000000  4.268583e+06\n",
              "75%    3.622245e+05  3.478296e+06  652.500000  1.536688e+07\n",
              "max    1.710000e+07  8.505033e+06  894.000000  1.330044e+09"
            ]
          },
          "metadata": {},
          "execution_count": 5
        }
      ]
    },
    {
      "cell_type": "markdown",
      "metadata": {
        "id": "9abZed1UMXkg"
      },
      "source": [
        "## Matriz de Correlación"
      ]
    },
    {
      "cell_type": "code",
      "metadata": {
        "ExecuteTime": {
          "end_time": "2019-12-08T22:08:56.919335Z",
          "start_time": "2019-12-08T22:08:49.847520Z"
        },
        "id": "9hcwyFGaMXkg",
        "colab": {
          "base_uri": "https://localhost:8080/",
          "height": 297
        },
        "outputId": "c793179e-1b7f-4dd2-e3eb-430c341ba836"
      },
      "source": [
        "corr = df.set_index('alpha_3').corr()\n",
        "sm.graphics.plot_corr(corr, xnames=list(corr.columns))\n",
        "plt.show()"
      ],
      "execution_count": 6,
      "outputs": [
        {
          "output_type": "display_data",
          "data": {
            "image/png": "[encoded data removed]",
            "text/plain": [
              "<Figure size 432x288 with 2 Axes>"
            ]
          },
          "metadata": {
            "needs_background": "light"
          }
        }
      ]
    },
    {
      "cell_type": "markdown",
      "metadata": {
        "id": "tGO6Y2YkMXkh"
      },
      "source": [
        "## Cargar una segunda fuente de datos"
      ]
    },
    {
      "cell_type": "code",
      "metadata": {
        "ExecuteTime": {
          "end_time": "2019-12-08T22:02:39.201638Z",
          "start_time": "2019-12-08T22:02:38.669191Z"
        },
        "id": "jSt78EhPMXkh",
        "colab": {
          "base_uri": "https://localhost:8080/"
        },
        "outputId": "b681b42b-6a5a-4ada-a9e4-69a51f483f2a"
      },
      "source": [
        "url = 'https://raw.githubusercontent.com/DrueStaples/Population_Growth/master/countries.csv'\n",
        "df_pop = pd.read_csv(url)\n",
        "print(df_pop.head(5))"
      ],
      "execution_count": 7,
      "outputs": [
        {
          "output_type": "stream",
          "name": "stdout",
          "text": [
            "       country  year  population\n",
            "0  Afghanistan  1952     8425333\n",
            "1  Afghanistan  1957     9240934\n",
            "2  Afghanistan  1962    10267083\n",
            "3  Afghanistan  1967    11537966\n",
            "4  Afghanistan  1972    13079460\n"
          ]
        }
      ]
    },
    {
      "cell_type": "markdown",
      "metadata": {
        "id": "wBUeO_aHMXki"
      },
      "source": [
        "### Aqui vemos la población año tras año de España"
      ]
    },
    {
      "cell_type": "code",
      "metadata": {
        "ExecuteTime": {
          "end_time": "2019-12-08T22:02:39.223694Z",
          "start_time": "2019-12-08T22:02:39.204902Z"
        },
        "id": "yF9QA3ZuMXki",
        "colab": {
          "base_uri": "https://localhost:8080/",
          "height": 203
        },
        "outputId": "e0ef80d6-12db-42f5-f2b9-8e41606e4db9"
      },
      "source": [
        "df_pop_es = df_pop[df_pop[\"country\"] == 'Spain' ]\n",
        "df_pop_es.head()"
      ],
      "execution_count": 8,
      "outputs": [
        {
          "output_type": "execute_result",
          "data": {
            "text/html": [
              "<div>\n",
              "<style scoped>\n",
              "    .dataframe tbody tr th:only-of-type {\n",
              "        vertical-align: middle;\n",
              "    }\n",
              "\n",
              "    .dataframe tbody tr th {\n",
              "        vertical-align: top;\n",
              "    }\n",
              "\n",
              "    .dataframe thead th {\n",
              "        text-align: right;\n",
              "    }\n",
              "</style>\n",
              "<table border=\"1\" class=\"dataframe\">\n",
              "  <thead>\n",
              "    <tr style=\"text-align: right;\">\n",
              "      <th></th>\n",
              "      <th>country</th>\n",
              "      <th>year</th>\n",
              "      <th>population</th>\n",
              "    </tr>\n",
              "  </thead>\n",
              "  <tbody>\n",
              "    <tr>\n",
              "      <th>1416</th>\n",
              "      <td>Spain</td>\n",
              "      <td>1952</td>\n",
              "      <td>28549870</td>\n",
              "    </tr>\n",
              "    <tr>\n",
              "      <th>1417</th>\n",
              "      <td>Spain</td>\n",
              "      <td>1957</td>\n",
              "      <td>29841614</td>\n",
              "    </tr>\n",
              "    <tr>\n",
              "      <th>1418</th>\n",
              "      <td>Spain</td>\n",
              "      <td>1962</td>\n",
              "      <td>31158061</td>\n",
              "    </tr>\n",
              "    <tr>\n",
              "      <th>1419</th>\n",
              "      <td>Spain</td>\n",
              "      <td>1967</td>\n",
              "      <td>32850275</td>\n",
              "    </tr>\n",
              "    <tr>\n",
              "      <th>1420</th>\n",
              "      <td>Spain</td>\n",
              "      <td>1972</td>\n",
              "      <td>34513161</td>\n",
              "    </tr>\n",
              "  </tbody>\n",
              "</table>\n",
              "</div>"
            ],
            "text/plain": [
              "     country  year  population\n",
              "1416   Spain  1952    28549870\n",
              "1417   Spain  1957    29841614\n",
              "1418   Spain  1962    31158061\n",
              "1419   Spain  1967    32850275\n",
              "1420   Spain  1972    34513161"
            ]
          },
          "metadata": {},
          "execution_count": 8
        }
      ]
    },
    {
      "cell_type": "code",
      "metadata": {
        "ExecuteTime": {
          "end_time": "2019-12-08T22:02:39.242255Z",
          "start_time": "2019-12-08T22:02:39.233781Z"
        },
        "id": "F_zSuRECMXkj",
        "colab": {
          "base_uri": "https://localhost:8080/"
        },
        "outputId": "cb277a72-2f8a-4a00-fd73-cc78c83799b2"
      },
      "source": [
        "df_pop_es.shape"
      ],
      "execution_count": 9,
      "outputs": [
        {
          "output_type": "execute_result",
          "data": {
            "text/plain": [
              "(12, 3)"
            ]
          },
          "metadata": {},
          "execution_count": 9
        }
      ]
    },
    {
      "cell_type": "markdown",
      "metadata": {
        "id": "FoZVZ7yjMXkj"
      },
      "source": [
        "## Visualicemos datos"
      ]
    },
    {
      "cell_type": "code",
      "metadata": {
        "ExecuteTime": {
          "end_time": "2019-12-08T22:02:39.496444Z",
          "start_time": "2019-12-08T22:02:39.249756Z"
        },
        "id": "9p7zWXNNMXkj",
        "colab": {
          "base_uri": "https://localhost:8080/",
          "height": 310
        },
        "outputId": "db2e60ea-6178-4a44-d3e2-f830431c6446"
      },
      "source": [
        "df_pop_es.drop(['country'],axis=1)['population'].plot(kind='bar')"
      ],
      "execution_count": 10,
      "outputs": [
        {
          "output_type": "execute_result",
          "data": {
            "text/plain": [
              "<matplotlib.axes._subplots.AxesSubplot at 0x7f7db0b7c8d0>"
            ]
          },
          "metadata": {},
          "execution_count": 10
        },
        {
          "output_type": "display_data",
          "data": {
            "image/png": "[encoded data removed]",
            "text/plain": [
              "<Figure size 432x288 with 1 Axes>"
            ]
          },
          "metadata": {
            "needs_background": "light"
          }
        }
      ]
    },
    {
      "cell_type": "code",
      "metadata": {
        "ExecuteTime": {
          "end_time": "2019-12-08T22:02:39.520411Z",
          "start_time": "2019-12-08T22:02:39.499275Z"
        },
        "id": "JfNmzK4BMXkk",
        "outputId": "883612e2-f618-4159-e974-139e3a44ae5b",
        "colab": {
          "base_uri": "https://localhost:8080/",
          "height": 203
        }
      },
      "source": [
        "df_pop_ar = df_pop[(df_pop[\"country\"] == 'Argentina')]\n",
        "df_pop_ar.head()"
      ],
      "execution_count": 11,
      "outputs": [
        {
          "output_type": "execute_result",
          "data": {
            "text/html": [
              "<div>\n",
              "<style scoped>\n",
              "    .dataframe tbody tr th:only-of-type {\n",
              "        vertical-align: middle;\n",
              "    }\n",
              "\n",
              "    .dataframe tbody tr th {\n",
              "        vertical-align: top;\n",
              "    }\n",
              "\n",
              "    .dataframe thead th {\n",
              "        text-align: right;\n",
              "    }\n",
              "</style>\n",
              "<table border=\"1\" class=\"dataframe\">\n",
              "  <thead>\n",
              "    <tr style=\"text-align: right;\">\n",
              "      <th></th>\n",
              "      <th>country</th>\n",
              "      <th>year</th>\n",
              "      <th>population</th>\n",
              "    </tr>\n",
              "  </thead>\n",
              "  <tbody>\n",
              "    <tr>\n",
              "      <th>48</th>\n",
              "      <td>Argentina</td>\n",
              "      <td>1952</td>\n",
              "      <td>17876956</td>\n",
              "    </tr>\n",
              "    <tr>\n",
              "      <th>49</th>\n",
              "      <td>Argentina</td>\n",
              "      <td>1957</td>\n",
              "      <td>19610538</td>\n",
              "    </tr>\n",
              "    <tr>\n",
              "      <th>50</th>\n",
              "      <td>Argentina</td>\n",
              "      <td>1962</td>\n",
              "      <td>21283783</td>\n",
              "    </tr>\n",
              "    <tr>\n",
              "      <th>51</th>\n",
              "      <td>Argentina</td>\n",
              "      <td>1967</td>\n",
              "      <td>22934225</td>\n",
              "    </tr>\n",
              "    <tr>\n",
              "      <th>52</th>\n",
              "      <td>Argentina</td>\n",
              "      <td>1972</td>\n",
              "      <td>24779799</td>\n",
              "    </tr>\n",
              "  </tbody>\n",
              "</table>\n",
              "</div>"
            ],
            "text/plain": [
              "      country  year  population\n",
              "48  Argentina  1952    17876956\n",
              "49  Argentina  1957    19610538\n",
              "50  Argentina  1962    21283783\n",
              "51  Argentina  1967    22934225\n",
              "52  Argentina  1972    24779799"
            ]
          },
          "metadata": {},
          "execution_count": 11
        }
      ]
    },
    {
      "cell_type": "code",
      "metadata": {
        "ExecuteTime": {
          "end_time": "2019-12-08T22:02:39.549547Z",
          "start_time": "2019-12-08T22:02:39.523476Z"
        },
        "id": "SLNINYKWMXkk",
        "outputId": "0618a61c-bad1-4313-b609-327ccdf47955",
        "colab": {
          "base_uri": "https://localhost:8080/"
        }
      },
      "source": [
        "df_pop_ar.shape"
      ],
      "execution_count": 12,
      "outputs": [
        {
          "output_type": "execute_result",
          "data": {
            "text/plain": [
              "(12, 3)"
            ]
          },
          "metadata": {},
          "execution_count": 12
        }
      ]
    },
    {
      "cell_type": "code",
      "metadata": {
        "ExecuteTime": {
          "end_time": "2019-12-08T22:02:39.807622Z",
          "start_time": "2019-12-08T22:02:39.552783Z"
        },
        "id": "XzYe13FxMXkl",
        "outputId": "46b87a96-9713-4c95-953c-5d5e2ca88e2b",
        "colab": {
          "base_uri": "https://localhost:8080/",
          "height": 323
        }
      },
      "source": [
        "df_pop_ar.set_index('year').plot(kind='bar')"
      ],
      "execution_count": 13,
      "outputs": [
        {
          "output_type": "execute_result",
          "data": {
            "text/plain": [
              "<matplotlib.axes._subplots.AxesSubplot at 0x7f7db981f9d0>"
            ]
          },
          "metadata": {},
          "execution_count": 13
        },
        {
          "output_type": "display_data",
          "data": {
            "image/png": "[encoded data removed]",
            "text/plain": [
              "<Figure size 432x288 with 1 Axes>"
            ]
          },
          "metadata": {
            "needs_background": "light"
          }
        }
      ]
    },
    {
      "cell_type": "markdown",
      "metadata": {
        "id": "2rMtlt3iMXkl"
      },
      "source": [
        "## Comparativa entre 2 países"
      ]
    },
    {
      "cell_type": "code",
      "metadata": {
        "ExecuteTime": {
          "end_time": "2019-12-08T22:02:40.139905Z",
          "start_time": "2019-12-08T22:02:39.810381Z"
        },
        "id": "njuML42aMXkl",
        "outputId": "6f228a29-1ba1-415b-feaf-0fcf66089992",
        "colab": {
          "base_uri": "https://localhost:8080/",
          "height": 310
        }
      },
      "source": [
        "anios = df_pop_es['year'].unique()\n",
        "pop_ar = df_pop_ar['population'].values\n",
        "pop_es = df_pop_es['population'].values\n",
        "\n",
        "df_plot = pd.DataFrame({'Argentina': pop_ar,\n",
        "                    'Spain': pop_es}, \n",
        "                       index=anios)\n",
        "df_plot.plot(kind='bar')"
      ],
      "execution_count": 14,
      "outputs": [
        {
          "output_type": "execute_result",
          "data": {
            "text/plain": [
              "<matplotlib.axes._subplots.AxesSubplot at 0x7f7db0a4d490>"
            ]
          },
          "metadata": {},
          "execution_count": 14
        },
        {
          "output_type": "display_data",
          "data": {
            "image/png": "[encoded data removed]",
            "text/plain": [
              "<Figure size 432x288 with 1 Axes>"
            ]
          },
          "metadata": {
            "needs_background": "light"
          }
        }
      ]
    },
    {
      "cell_type": "markdown",
      "metadata": {
        "id": "GoTKP74aMXkm"
      },
      "source": [
        "# Filtremos paises hispano-hablantes"
      ]
    },
    {
      "cell_type": "code",
      "metadata": {
        "ExecuteTime": {
          "end_time": "2019-12-08T22:02:40.199235Z",
          "start_time": "2019-12-08T22:02:40.142691Z"
        },
        "id": "_E4bEKv9MXkm",
        "outputId": "0c8af2a4-1022-49cc-a1da-efcd73f180c1",
        "colab": {
          "base_uri": "https://localhost:8080/",
          "height": 1000
        }
      },
      "source": [
        "df_espanol = df.replace(np.nan, '', regex=True)\n",
        "df_espanol = df_espanol[ df_espanol['languages'].str.contains('es') ]\n",
        "df_espanol"
      ],
      "execution_count": 15,
      "outputs": [
        {
          "output_type": "execute_result",
          "data": {
            "text/html": [
              "<div>\n",
              "<style scoped>\n",
              "    .dataframe tbody tr th:only-of-type {\n",
              "        vertical-align: middle;\n",
              "    }\n",
              "\n",
              "    .dataframe tbody tr th {\n",
              "        vertical-align: top;\n",
              "    }\n",
              "\n",
              "    .dataframe thead th {\n",
              "        text-align: right;\n",
              "    }\n",
              "</style>\n",
              "<table border=\"1\" class=\"dataframe\">\n",
              "  <thead>\n",
              "    <tr style=\"text-align: right;\">\n",
              "      <th></th>\n",
              "      <th>alpha_2</th>\n",
              "      <th>alpha_3</th>\n",
              "      <th>area</th>\n",
              "      <th>capital</th>\n",
              "      <th>continent</th>\n",
              "      <th>currency_code</th>\n",
              "      <th>currency_name</th>\n",
              "      <th>eqivalent_fips_code</th>\n",
              "      <th>fips</th>\n",
              "      <th>geoname_id</th>\n",
              "      <th>languages</th>\n",
              "      <th>name</th>\n",
              "      <th>neighbours</th>\n",
              "      <th>numeric</th>\n",
              "      <th>phone</th>\n",
              "      <th>population</th>\n",
              "      <th>postal_code_format</th>\n",
              "      <th>postal_code_regex</th>\n",
              "      <th>tld</th>\n",
              "    </tr>\n",
              "  </thead>\n",
              "  <tbody>\n",
              "    <tr>\n",
              "      <th>9</th>\n",
              "      <td>AR</td>\n",
              "      <td>ARG</td>\n",
              "      <td>2766890.0</td>\n",
              "      <td>Buenos Aires</td>\n",
              "      <td>SA</td>\n",
              "      <td>ARS</td>\n",
              "      <td>Peso</td>\n",
              "      <td></td>\n",
              "      <td>AR</td>\n",
              "      <td>3865483</td>\n",
              "      <td>es-AR,en,it,de,fr,gn</td>\n",
              "      <td>Argentina</td>\n",
              "      <td>CL,BO,UY,PY,BR</td>\n",
              "      <td>32</td>\n",
              "      <td>54</td>\n",
              "      <td>41343201</td>\n",
              "      <td>@####@@@</td>\n",
              "      <td>^[A-Z]?\\d{4}[A-Z]{0,3}$</td>\n",
              "      <td>.ar</td>\n",
              "    </tr>\n",
              "    <tr>\n",
              "      <th>13</th>\n",
              "      <td>AW</td>\n",
              "      <td>ABW</td>\n",
              "      <td>193.0</td>\n",
              "      <td>Oranjestad</td>\n",
              "      <td></td>\n",
              "      <td>AWG</td>\n",
              "      <td>Guilder</td>\n",
              "      <td></td>\n",
              "      <td>AA</td>\n",
              "      <td>3577279</td>\n",
              "      <td>nl-AW,es,en</td>\n",
              "      <td>Aruba</td>\n",
              "      <td></td>\n",
              "      <td>533</td>\n",
              "      <td>297</td>\n",
              "      <td>71566</td>\n",
              "      <td></td>\n",
              "      <td></td>\n",
              "      <td>.aw</td>\n",
              "    </tr>\n",
              "    <tr>\n",
              "      <th>28</th>\n",
              "      <td>BO</td>\n",
              "      <td>BOL</td>\n",
              "      <td>1098580.0</td>\n",
              "      <td>Sucre</td>\n",
              "      <td>SA</td>\n",
              "      <td>BOB</td>\n",
              "      <td>Boliviano</td>\n",
              "      <td></td>\n",
              "      <td>BL</td>\n",
              "      <td>3923057</td>\n",
              "      <td>es-BO,qu,ay</td>\n",
              "      <td>Bolivia</td>\n",
              "      <td>PE,CL,PY,BR,AR</td>\n",
              "      <td>68</td>\n",
              "      <td>591</td>\n",
              "      <td>9947418</td>\n",
              "      <td></td>\n",
              "      <td></td>\n",
              "      <td>.bo</td>\n",
              "    </tr>\n",
              "    <tr>\n",
              "      <th>30</th>\n",
              "      <td>BR</td>\n",
              "      <td>BRA</td>\n",
              "      <td>8511965.0</td>\n",
              "      <td>Brasilia</td>\n",
              "      <td>SA</td>\n",
              "      <td>BRL</td>\n",
              "      <td>Real</td>\n",
              "      <td></td>\n",
              "      <td>BR</td>\n",
              "      <td>3469034</td>\n",
              "      <td>pt-BR,es,en,fr</td>\n",
              "      <td>Brazil</td>\n",
              "      <td>SR,PE,BO,UY,GY,PY,GF,VE,CO,AR</td>\n",
              "      <td>76</td>\n",
              "      <td>55</td>\n",
              "      <td>201103330</td>\n",
              "      <td>#####-###</td>\n",
              "      <td>^\\d{5}-\\d{3}$</td>\n",
              "      <td>.br</td>\n",
              "    </tr>\n",
              "    <tr>\n",
              "      <th>36</th>\n",
              "      <td>BZ</td>\n",
              "      <td>BLZ</td>\n",
              "      <td>22966.0</td>\n",
              "      <td>Belmopan</td>\n",
              "      <td></td>\n",
              "      <td>BZD</td>\n",
              "      <td>Dollar</td>\n",
              "      <td></td>\n",
              "      <td>BH</td>\n",
              "      <td>3582678</td>\n",
              "      <td>en-BZ,es</td>\n",
              "      <td>Belize</td>\n",
              "      <td>GT,MX</td>\n",
              "      <td>84</td>\n",
              "      <td>501</td>\n",
              "      <td>314522</td>\n",
              "      <td></td>\n",
              "      <td></td>\n",
              "      <td>.bz</td>\n",
              "    </tr>\n",
              "    <tr>\n",
              "      <th>45</th>\n",
              "      <td>CL</td>\n",
              "      <td>CHL</td>\n",
              "      <td>756950.0</td>\n",
              "      <td>Santiago</td>\n",
              "      <td>SA</td>\n",
              "      <td>CLP</td>\n",
              "      <td>Peso</td>\n",
              "      <td></td>\n",
              "      <td>CI</td>\n",
              "      <td>3895114</td>\n",
              "      <td>es-CL</td>\n",
              "      <td>Chile</td>\n",
              "      <td>PE,BO,AR</td>\n",
              "      <td>152</td>\n",
              "      <td>56</td>\n",
              "      <td>16746491</td>\n",
              "      <td>#######</td>\n",
              "      <td>^(\\d{7})$</td>\n",
              "      <td>.cl</td>\n",
              "    </tr>\n",
              "    <tr>\n",
              "      <th>48</th>\n",
              "      <td>CO</td>\n",
              "      <td>COL</td>\n",
              "      <td>1138910.0</td>\n",
              "      <td>Bogota</td>\n",
              "      <td>SA</td>\n",
              "      <td>COP</td>\n",
              "      <td>Peso</td>\n",
              "      <td></td>\n",
              "      <td>CO</td>\n",
              "      <td>3686110</td>\n",
              "      <td>es-CO</td>\n",
              "      <td>Colombia</td>\n",
              "      <td>EC,PE,PA,BR,VE</td>\n",
              "      <td>170</td>\n",
              "      <td>57</td>\n",
              "      <td>47790000</td>\n",
              "      <td></td>\n",
              "      <td></td>\n",
              "      <td>.co</td>\n",
              "    </tr>\n",
              "    <tr>\n",
              "      <th>49</th>\n",
              "      <td>CR</td>\n",
              "      <td>CRI</td>\n",
              "      <td>51100.0</td>\n",
              "      <td>San Jose</td>\n",
              "      <td></td>\n",
              "      <td>CRC</td>\n",
              "      <td>Colon</td>\n",
              "      <td></td>\n",
              "      <td>CS</td>\n",
              "      <td>3624060</td>\n",
              "      <td>es-CR,en</td>\n",
              "      <td>Costa Rica</td>\n",
              "      <td>PA,NI</td>\n",
              "      <td>188</td>\n",
              "      <td>506</td>\n",
              "      <td>4516220</td>\n",
              "      <td>####</td>\n",
              "      <td>^(\\d{4})$</td>\n",
              "      <td>.cr</td>\n",
              "    </tr>\n",
              "    <tr>\n",
              "      <th>50</th>\n",
              "      <td>CU</td>\n",
              "      <td>CUB</td>\n",
              "      <td>110860.0</td>\n",
              "      <td>Havana</td>\n",
              "      <td></td>\n",
              "      <td>CUP</td>\n",
              "      <td>Peso</td>\n",
              "      <td></td>\n",
              "      <td>CU</td>\n",
              "      <td>3562981</td>\n",
              "      <td>es-CU</td>\n",
              "      <td>Cuba</td>\n",
              "      <td>US</td>\n",
              "      <td>192</td>\n",
              "      <td>53</td>\n",
              "      <td>11423000</td>\n",
              "      <td>CP #####</td>\n",
              "      <td>^(?:CP)*(\\d{5})$</td>\n",
              "      <td>.cu</td>\n",
              "    </tr>\n",
              "    <tr>\n",
              "      <th>60</th>\n",
              "      <td>DO</td>\n",
              "      <td>DOM</td>\n",
              "      <td>48730.0</td>\n",
              "      <td>Santo Domingo</td>\n",
              "      <td></td>\n",
              "      <td>DOP</td>\n",
              "      <td>Peso</td>\n",
              "      <td></td>\n",
              "      <td>DR</td>\n",
              "      <td>3508796</td>\n",
              "      <td>es-DO</td>\n",
              "      <td>Dominican Republic</td>\n",
              "      <td>HT</td>\n",
              "      <td>214</td>\n",
              "      <td>+1-809 and 1-829</td>\n",
              "      <td>9823821</td>\n",
              "      <td>#####</td>\n",
              "      <td>^(\\d{5})$</td>\n",
              "      <td>.do</td>\n",
              "    </tr>\n",
              "    <tr>\n",
              "      <th>62</th>\n",
              "      <td>EC</td>\n",
              "      <td>ECU</td>\n",
              "      <td>283560.0</td>\n",
              "      <td>Quito</td>\n",
              "      <td>SA</td>\n",
              "      <td>USD</td>\n",
              "      <td>Dollar</td>\n",
              "      <td></td>\n",
              "      <td>EC</td>\n",
              "      <td>3658394</td>\n",
              "      <td>es-EC</td>\n",
              "      <td>Ecuador</td>\n",
              "      <td>PE,CO</td>\n",
              "      <td>218</td>\n",
              "      <td>593</td>\n",
              "      <td>14790608</td>\n",
              "      <td>@####@</td>\n",
              "      <td>^([a-zA-Z]\\d{4}[a-zA-Z])$</td>\n",
              "      <td>.ec</td>\n",
              "    </tr>\n",
              "    <tr>\n",
              "      <th>67</th>\n",
              "      <td>ES</td>\n",
              "      <td>ESP</td>\n",
              "      <td>504782.0</td>\n",
              "      <td>Madrid</td>\n",
              "      <td>EU</td>\n",
              "      <td>EUR</td>\n",
              "      <td>Euro</td>\n",
              "      <td></td>\n",
              "      <td>SP</td>\n",
              "      <td>2510769</td>\n",
              "      <td>es-ES,ca,gl,eu,oc</td>\n",
              "      <td>Spain</td>\n",
              "      <td>AD,PT,GI,FR,MA</td>\n",
              "      <td>724</td>\n",
              "      <td>34</td>\n",
              "      <td>46505963</td>\n",
              "      <td>#####</td>\n",
              "      <td>^(\\d{5})$</td>\n",
              "      <td>.es</td>\n",
              "    </tr>\n",
              "    <tr>\n",
              "      <th>82</th>\n",
              "      <td>GI</td>\n",
              "      <td>GIB</td>\n",
              "      <td>6.5</td>\n",
              "      <td>Gibraltar</td>\n",
              "      <td>EU</td>\n",
              "      <td>GIP</td>\n",
              "      <td>Pound</td>\n",
              "      <td></td>\n",
              "      <td>GI</td>\n",
              "      <td>2411586</td>\n",
              "      <td>en-GI,es,it,pt</td>\n",
              "      <td>Gibraltar</td>\n",
              "      <td>ES</td>\n",
              "      <td>292</td>\n",
              "      <td>350</td>\n",
              "      <td>27884</td>\n",
              "      <td></td>\n",
              "      <td></td>\n",
              "      <td>.gi</td>\n",
              "    </tr>\n",
              "    <tr>\n",
              "      <th>87</th>\n",
              "      <td>GQ</td>\n",
              "      <td>GNQ</td>\n",
              "      <td>28051.0</td>\n",
              "      <td>Malabo</td>\n",
              "      <td>AF</td>\n",
              "      <td>XAF</td>\n",
              "      <td>Franc</td>\n",
              "      <td></td>\n",
              "      <td>EK</td>\n",
              "      <td>2309096</td>\n",
              "      <td>es-GQ,fr</td>\n",
              "      <td>Equatorial Guinea</td>\n",
              "      <td>GA,CM</td>\n",
              "      <td>226</td>\n",
              "      <td>240</td>\n",
              "      <td>1014999</td>\n",
              "      <td></td>\n",
              "      <td></td>\n",
              "      <td>.gq</td>\n",
              "    </tr>\n",
              "    <tr>\n",
              "      <th>90</th>\n",
              "      <td>GT</td>\n",
              "      <td>GTM</td>\n",
              "      <td>108890.0</td>\n",
              "      <td>Guatemala City</td>\n",
              "      <td></td>\n",
              "      <td>GTQ</td>\n",
              "      <td>Quetzal</td>\n",
              "      <td></td>\n",
              "      <td>GT</td>\n",
              "      <td>3595528</td>\n",
              "      <td>es-GT</td>\n",
              "      <td>Guatemala</td>\n",
              "      <td>MX,HN,BZ,SV</td>\n",
              "      <td>320</td>\n",
              "      <td>502</td>\n",
              "      <td>13550440</td>\n",
              "      <td>#####</td>\n",
              "      <td>^(\\d{5})$</td>\n",
              "      <td>.gt</td>\n",
              "    </tr>\n",
              "    <tr>\n",
              "      <th>96</th>\n",
              "      <td>HN</td>\n",
              "      <td>HND</td>\n",
              "      <td>112090.0</td>\n",
              "      <td>Tegucigalpa</td>\n",
              "      <td></td>\n",
              "      <td>HNL</td>\n",
              "      <td>Lempira</td>\n",
              "      <td></td>\n",
              "      <td>HO</td>\n",
              "      <td>3608932</td>\n",
              "      <td>es-HN</td>\n",
              "      <td>Honduras</td>\n",
              "      <td>GT,NI,SV</td>\n",
              "      <td>340</td>\n",
              "      <td>504</td>\n",
              "      <td>7989415</td>\n",
              "      <td>@@####</td>\n",
              "      <td>^([A-Z]{2}\\d{4})$</td>\n",
              "      <td>.hn</td>\n",
              "    </tr>\n",
              "    <tr>\n",
              "      <th>157</th>\n",
              "      <td>MX</td>\n",
              "      <td>MEX</td>\n",
              "      <td>1972550.0</td>\n",
              "      <td>Mexico City</td>\n",
              "      <td></td>\n",
              "      <td>MXN</td>\n",
              "      <td>Peso</td>\n",
              "      <td></td>\n",
              "      <td>MX</td>\n",
              "      <td>3996063</td>\n",
              "      <td>es-MX</td>\n",
              "      <td>Mexico</td>\n",
              "      <td>GT,US,BZ</td>\n",
              "      <td>484</td>\n",
              "      <td>52</td>\n",
              "      <td>112468855</td>\n",
              "      <td>#####</td>\n",
              "      <td>^(\\d{5})$</td>\n",
              "      <td>.mx</td>\n",
              "    </tr>\n",
              "    <tr>\n",
              "      <th>165</th>\n",
              "      <td>NI</td>\n",
              "      <td>NIC</td>\n",
              "      <td>129494.0</td>\n",
              "      <td>Managua</td>\n",
              "      <td></td>\n",
              "      <td>NIO</td>\n",
              "      <td>Cordoba</td>\n",
              "      <td></td>\n",
              "      <td>NU</td>\n",
              "      <td>3617476</td>\n",
              "      <td>es-NI,en</td>\n",
              "      <td>Nicaragua</td>\n",
              "      <td>CR,HN</td>\n",
              "      <td>558</td>\n",
              "      <td>505</td>\n",
              "      <td>5995928</td>\n",
              "      <td>###-###-#</td>\n",
              "      <td>^(\\d{7})$</td>\n",
              "      <td>.ni</td>\n",
              "    </tr>\n",
              "    <tr>\n",
              "      <th>173</th>\n",
              "      <td>PA</td>\n",
              "      <td>PAN</td>\n",
              "      <td>78200.0</td>\n",
              "      <td>Panama City</td>\n",
              "      <td></td>\n",
              "      <td>PAB</td>\n",
              "      <td>Balboa</td>\n",
              "      <td></td>\n",
              "      <td>PM</td>\n",
              "      <td>3703430</td>\n",
              "      <td>es-PA,en</td>\n",
              "      <td>Panama</td>\n",
              "      <td>CR,CO</td>\n",
              "      <td>591</td>\n",
              "      <td>507</td>\n",
              "      <td>3410676</td>\n",
              "      <td></td>\n",
              "      <td></td>\n",
              "      <td>.pa</td>\n",
              "    </tr>\n",
              "    <tr>\n",
              "      <th>174</th>\n",
              "      <td>PE</td>\n",
              "      <td>PER</td>\n",
              "      <td>1285220.0</td>\n",
              "      <td>Lima</td>\n",
              "      <td>SA</td>\n",
              "      <td>PEN</td>\n",
              "      <td>Sol</td>\n",
              "      <td></td>\n",
              "      <td>PE</td>\n",
              "      <td>3932488</td>\n",
              "      <td>es-PE,qu,ay</td>\n",
              "      <td>Peru</td>\n",
              "      <td>EC,CL,BO,BR,CO</td>\n",
              "      <td>604</td>\n",
              "      <td>51</td>\n",
              "      <td>29907003</td>\n",
              "      <td></td>\n",
              "      <td></td>\n",
              "      <td>.pe</td>\n",
              "    </tr>\n",
              "    <tr>\n",
              "      <th>182</th>\n",
              "      <td>PR</td>\n",
              "      <td>PRI</td>\n",
              "      <td>9104.0</td>\n",
              "      <td>San Juan</td>\n",
              "      <td></td>\n",
              "      <td>USD</td>\n",
              "      <td>Dollar</td>\n",
              "      <td></td>\n",
              "      <td>RQ</td>\n",
              "      <td>4566966</td>\n",
              "      <td>en-PR,es-PR</td>\n",
              "      <td>Puerto Rico</td>\n",
              "      <td></td>\n",
              "      <td>630</td>\n",
              "      <td>+1-787 and 1-939</td>\n",
              "      <td>3916632</td>\n",
              "      <td>#####-####</td>\n",
              "      <td>^00[679]\\d{2}(?:-\\d{4})?$</td>\n",
              "      <td>.pr</td>\n",
              "    </tr>\n",
              "    <tr>\n",
              "      <th>186</th>\n",
              "      <td>PY</td>\n",
              "      <td>PRY</td>\n",
              "      <td>406750.0</td>\n",
              "      <td>Asuncion</td>\n",
              "      <td>SA</td>\n",
              "      <td>PYG</td>\n",
              "      <td>Guarani</td>\n",
              "      <td></td>\n",
              "      <td>PA</td>\n",
              "      <td>3437598</td>\n",
              "      <td>es-PY,gn</td>\n",
              "      <td>Paraguay</td>\n",
              "      <td>BO,BR,AR</td>\n",
              "      <td>600</td>\n",
              "      <td>595</td>\n",
              "      <td>6375830</td>\n",
              "      <td>####</td>\n",
              "      <td>^(\\d{4})$</td>\n",
              "      <td>.py</td>\n",
              "    </tr>\n",
              "    <tr>\n",
              "      <th>187</th>\n",
              "      <td>QA</td>\n",
              "      <td>QAT</td>\n",
              "      <td>11437.0</td>\n",
              "      <td>Doha</td>\n",
              "      <td>AS</td>\n",
              "      <td>QAR</td>\n",
              "      <td>Rial</td>\n",
              "      <td></td>\n",
              "      <td>QA</td>\n",
              "      <td>289688</td>\n",
              "      <td>ar-QA,es</td>\n",
              "      <td>Qatar</td>\n",
              "      <td>SA</td>\n",
              "      <td>634</td>\n",
              "      <td>974</td>\n",
              "      <td>840926</td>\n",
              "      <td></td>\n",
              "      <td></td>\n",
              "      <td>.qa</td>\n",
              "    </tr>\n",
              "    <tr>\n",
              "      <th>210</th>\n",
              "      <td>SV</td>\n",
              "      <td>SLV</td>\n",
              "      <td>21040.0</td>\n",
              "      <td>San Salvador</td>\n",
              "      <td></td>\n",
              "      <td>USD</td>\n",
              "      <td>Dollar</td>\n",
              "      <td></td>\n",
              "      <td>ES</td>\n",
              "      <td>3585968</td>\n",
              "      <td>es-SV</td>\n",
              "      <td>El Salvador</td>\n",
              "      <td>GT,HN</td>\n",
              "      <td>222</td>\n",
              "      <td>503</td>\n",
              "      <td>6052064</td>\n",
              "      <td>CP ####</td>\n",
              "      <td>^(?:CP)*(\\d{4})$</td>\n",
              "      <td>.sv</td>\n",
              "    </tr>\n",
              "    <tr>\n",
              "      <th>226</th>\n",
              "      <td>TT</td>\n",
              "      <td>TTO</td>\n",
              "      <td>5128.0</td>\n",
              "      <td>Port of Spain</td>\n",
              "      <td></td>\n",
              "      <td>TTD</td>\n",
              "      <td>Dollar</td>\n",
              "      <td></td>\n",
              "      <td>TD</td>\n",
              "      <td>3573591</td>\n",
              "      <td>en-TT,hns,fr,es,zh</td>\n",
              "      <td>Trinidad and Tobago</td>\n",
              "      <td></td>\n",
              "      <td>780</td>\n",
              "      <td>+1-868</td>\n",
              "      <td>1228691</td>\n",
              "      <td></td>\n",
              "      <td></td>\n",
              "      <td>.tt</td>\n",
              "    </tr>\n",
              "    <tr>\n",
              "      <th>233</th>\n",
              "      <td>US</td>\n",
              "      <td>USA</td>\n",
              "      <td>9629091.0</td>\n",
              "      <td>Washington</td>\n",
              "      <td></td>\n",
              "      <td>USD</td>\n",
              "      <td>Dollar</td>\n",
              "      <td></td>\n",
              "      <td>US</td>\n",
              "      <td>6252001</td>\n",
              "      <td>en-US,es-US,haw,fr</td>\n",
              "      <td>United States</td>\n",
              "      <td>CA,MX,CU</td>\n",
              "      <td>840</td>\n",
              "      <td>1</td>\n",
              "      <td>310232863</td>\n",
              "      <td>#####-####</td>\n",
              "      <td>^\\d{5}(-\\d{4})?$</td>\n",
              "      <td>.us</td>\n",
              "    </tr>\n",
              "    <tr>\n",
              "      <th>234</th>\n",
              "      <td>UY</td>\n",
              "      <td>URY</td>\n",
              "      <td>176220.0</td>\n",
              "      <td>Montevideo</td>\n",
              "      <td>SA</td>\n",
              "      <td>UYU</td>\n",
              "      <td>Peso</td>\n",
              "      <td></td>\n",
              "      <td>UY</td>\n",
              "      <td>3439705</td>\n",
              "      <td>es-UY</td>\n",
              "      <td>Uruguay</td>\n",
              "      <td>BR,AR</td>\n",
              "      <td>858</td>\n",
              "      <td>598</td>\n",
              "      <td>3477000</td>\n",
              "      <td>#####</td>\n",
              "      <td>^(\\d{5})$</td>\n",
              "      <td>.uy</td>\n",
              "    </tr>\n",
              "    <tr>\n",
              "      <th>238</th>\n",
              "      <td>VE</td>\n",
              "      <td>VEN</td>\n",
              "      <td>912050.0</td>\n",
              "      <td>Caracas</td>\n",
              "      <td>SA</td>\n",
              "      <td>VEF</td>\n",
              "      <td>Bolivar</td>\n",
              "      <td></td>\n",
              "      <td>VE</td>\n",
              "      <td>3625428</td>\n",
              "      <td>es-VE</td>\n",
              "      <td>Venezuela</td>\n",
              "      <td>GY,BR,CO</td>\n",
              "      <td>862</td>\n",
              "      <td>58</td>\n",
              "      <td>27223228</td>\n",
              "      <td>####</td>\n",
              "      <td>^(\\d{4})$</td>\n",
              "      <td>.ve</td>\n",
              "    </tr>\n",
              "    <tr>\n",
              "      <th>251</th>\n",
              "      <td>AN</td>\n",
              "      <td>ANT</td>\n",
              "      <td>960.0</td>\n",
              "      <td>Willemstad</td>\n",
              "      <td></td>\n",
              "      <td>ANG</td>\n",
              "      <td>Guilder</td>\n",
              "      <td></td>\n",
              "      <td>NT</td>\n",
              "      <td>8505032</td>\n",
              "      <td>nl-AN,en,es</td>\n",
              "      <td>Netherlands Antilles</td>\n",
              "      <td>GP</td>\n",
              "      <td>530</td>\n",
              "      <td>599</td>\n",
              "      <td>300000</td>\n",
              "      <td></td>\n",
              "      <td></td>\n",
              "      <td>.an</td>\n",
              "    </tr>\n",
              "  </tbody>\n",
              "</table>\n",
              "</div>"
            ],
            "text/plain": [
              "    alpha_2 alpha_3  ...          postal_code_regex  tld\n",
              "9        AR     ARG  ...    ^[A-Z]?\\d{4}[A-Z]{0,3}$  .ar\n",
              "13       AW     ABW  ...                             .aw\n",
              "28       BO     BOL  ...                             .bo\n",
              "30       BR     BRA  ...              ^\\d{5}-\\d{3}$  .br\n",
              "36       BZ     BLZ  ...                             .bz\n",
              "45       CL     CHL  ...                  ^(\\d{7})$  .cl\n",
              "48       CO     COL  ...                             .co\n",
              "49       CR     CRI  ...                  ^(\\d{4})$  .cr\n",
              "50       CU     CUB  ...           ^(?:CP)*(\\d{5})$  .cu\n",
              "60       DO     DOM  ...                  ^(\\d{5})$  .do\n",
              "62       EC     ECU  ...  ^([a-zA-Z]\\d{4}[a-zA-Z])$  .ec\n",
              "67       ES     ESP  ...                  ^(\\d{5})$  .es\n",
              "82       GI     GIB  ...                             .gi\n",
              "87       GQ     GNQ  ...                             .gq\n",
              "90       GT     GTM  ...                  ^(\\d{5})$  .gt\n",
              "96       HN     HND  ...          ^([A-Z]{2}\\d{4})$  .hn\n",
              "157      MX     MEX  ...                  ^(\\d{5})$  .mx\n",
              "165      NI     NIC  ...                  ^(\\d{7})$  .ni\n",
              "173      PA     PAN  ...                             .pa\n",
              "174      PE     PER  ...                             .pe\n",
              "182      PR     PRI  ...  ^00[679]\\d{2}(?:-\\d{4})?$  .pr\n",
              "186      PY     PRY  ...                  ^(\\d{4})$  .py\n",
              "187      QA     QAT  ...                             .qa\n",
              "210      SV     SLV  ...           ^(?:CP)*(\\d{4})$  .sv\n",
              "226      TT     TTO  ...                             .tt\n",
              "233      US     USA  ...           ^\\d{5}(-\\d{4})?$  .us\n",
              "234      UY     URY  ...                  ^(\\d{5})$  .uy\n",
              "238      VE     VEN  ...                  ^(\\d{4})$  .ve\n",
              "251      AN     ANT  ...                             .an\n",
              "\n",
              "[29 rows x 19 columns]"
            ]
          },
          "metadata": {},
          "execution_count": 15
        }
      ]
    },
    {
      "cell_type": "code",
      "metadata": {
        "ExecuteTime": {
          "end_time": "2019-12-08T22:02:40.210324Z",
          "start_time": "2019-12-08T22:02:40.202616Z"
        },
        "id": "3rfs4yCjMXkm",
        "outputId": "2ea95477-5cfd-4f20-d26b-214abe9feec1",
        "colab": {
          "base_uri": "https://localhost:8080/"
        }
      },
      "source": [
        "df_espanol.shape"
      ],
      "execution_count": 16,
      "outputs": [
        {
          "output_type": "execute_result",
          "data": {
            "text/plain": [
              "(29, 19)"
            ]
          },
          "metadata": {},
          "execution_count": 16
        }
      ]
    },
    {
      "cell_type": "markdown",
      "metadata": {
        "id": "RQr-fgMeMXkn"
      },
      "source": [
        "## Visualicemos por población"
      ]
    },
    {
      "cell_type": "code",
      "metadata": {
        "ExecuteTime": {
          "end_time": "2019-12-08T22:02:40.806679Z",
          "start_time": "2019-12-08T22:02:40.213973Z"
        },
        "id": "FTxe8lQtMXkn",
        "outputId": "9defb6b4-3d7b-4098-dd25-528f1a4d5bf5",
        "colab": {
          "base_uri": "https://localhost:8080/",
          "height": 592
        }
      },
      "source": [
        "df_espanol.set_index('alpha_3')[['population','area']].plot(kind='bar',rot=65,figsize=(20,10))"
      ],
      "execution_count": 17,
      "outputs": [
        {
          "output_type": "execute_result",
          "data": {
            "text/plain": [
              "<matplotlib.axes._subplots.AxesSubplot at 0x7f7db09439d0>"
            ]
          },
          "metadata": {},
          "execution_count": 17
        },
        {
          "output_type": "display_data",
          "data": {
            "image/png": "[encoded data removed]",
            "text/plain": [
              "<Figure size 1440x720 with 1 Axes>"
            ]
          },
          "metadata": {
            "needs_background": "light"
          }
        }
      ]
    },
    {
      "cell_type": "markdown",
      "metadata": {
        "id": "wl6UmmSeMXkn"
      },
      "source": [
        "## Detección de Outliers"
      ]
    },
    {
      "cell_type": "code",
      "metadata": {
        "ExecuteTime": {
          "end_time": "2019-12-08T22:02:55.543787Z",
          "start_time": "2019-12-08T22:02:55.521193Z"
        },
        "id": "7ddP6_rlMXkn",
        "outputId": "07fb31ec-4121-4bb2-ed2c-c643c49e2a77",
        "colab": {
          "base_uri": "https://localhost:8080/"
        }
      },
      "source": [
        "anomalies = []\n",
        "\n",
        "# Funcion ejemplo para detección de outliers\n",
        "def find_anomalies(data):\n",
        "    # Set upper and lower limit to 2 standard deviation\n",
        "    data_std = data.std()\n",
        "    data_mean = data.mean()\n",
        "    anomaly_cut_off = data_std * 2\n",
        "    lower_limit  = data_mean - anomaly_cut_off \n",
        "    upper_limit = data_mean + anomaly_cut_off\n",
        "    print(lower_limit.iloc[0])\n",
        "    print(upper_limit.iloc[0])\n",
        "\n",
        "    # Generate outliers\n",
        "    for index, row in data.iterrows():\n",
        "        outlier = row # # obtener primer columna\n",
        "        # print(outlier)\n",
        "        if (outlier.iloc[0] > upper_limit.iloc[0]) or (outlier.iloc[0] < lower_limit.iloc[0]):\n",
        "            anomalies.append(index)\n",
        "    return anomalies\n",
        "\n",
        "find_anomalies(df_espanol.set_index('alpha_3')[['population']])"
      ],
      "execution_count": 18,
      "outputs": [
        {
          "output_type": "stream",
          "name": "stdout",
          "text": [
            "-102872707.87855022\n",
            "167589161.25786057\n"
          ]
        },
        {
          "output_type": "execute_result",
          "data": {
            "text/plain": [
              "['BRA', 'USA']"
            ]
          },
          "metadata": {},
          "execution_count": 18
        }
      ]
    },
    {
      "cell_type": "code",
      "metadata": {
        "ExecuteTime": {
          "end_time": "2019-12-08T22:03:21.432811Z",
          "start_time": "2019-12-08T22:03:21.427535Z"
        },
        "id": "Al90fEL2MXkn"
      },
      "source": [
        "# Quitemos BRA y USA por ser outlies y volvamos a graficar:\n",
        "df_espanol.drop([30,233], inplace=True)"
      ],
      "execution_count": 19,
      "outputs": []
    },
    {
      "cell_type": "code",
      "metadata": {
        "ExecuteTime": {
          "end_time": "2019-12-08T22:03:22.946923Z",
          "start_time": "2019-12-08T22:03:22.477307Z"
        },
        "id": "7lOAUZJFMXko",
        "outputId": "0974bff4-da2a-43c5-8c53-3737f259befa",
        "colab": {
          "base_uri": "https://localhost:8080/",
          "height": 592
        }
      },
      "source": [
        "df_espanol.set_index('alpha_3')[['population','area']].plot(kind='bar',rot=65,figsize=(20,10))"
      ],
      "execution_count": 20,
      "outputs": [
        {
          "output_type": "execute_result",
          "data": {
            "text/plain": [
              "<matplotlib.axes._subplots.AxesSubplot at 0x7f7db0806710>"
            ]
          },
          "metadata": {},
          "execution_count": 20
        },
        {
          "output_type": "display_data",
          "data": {
            "image/png": "[encoded data removed]",
            "text/plain": [
              "<Figure size 1440x720 with 1 Axes>"
            ]
          },
          "metadata": {
            "needs_background": "light"
          }
        }
      ]
    },
    {
      "cell_type": "markdown",
      "metadata": {
        "id": "tE9ucnvzMXko"
      },
      "source": [
        "## Graficamos ordenando por tamaño Población"
      ]
    },
    {
      "cell_type": "code",
      "metadata": {
        "ExecuteTime": {
          "end_time": "2019-12-08T22:03:26.045129Z",
          "start_time": "2019-12-08T22:03:25.515844Z"
        },
        "id": "lTjf0GlRMXko",
        "outputId": "dde53274-8d6d-49ac-a975-d46b55baaf30",
        "colab": {
          "base_uri": "https://localhost:8080/",
          "height": 592
        }
      },
      "source": [
        "df_espanol.set_index('alpha_3')[['population','area']].sort_values([\"population\"]).plot(kind='bar',rot=65,figsize=(20,10))"
      ],
      "execution_count": 21,
      "outputs": [
        {
          "output_type": "execute_result",
          "data": {
            "text/plain": [
              "<matplotlib.axes._subplots.AxesSubplot at 0x7f7daf43af10>"
            ]
          },
          "metadata": {},
          "execution_count": 21
        },
        {
          "output_type": "display_data",
          "data": {
            "image/png": "[encoded data removed]",
            "text/plain": [
              "<Figure size 1440x720 with 1 Axes>"
            ]
          },
          "metadata": {
            "needs_background": "light"
          }
        }
      ]
    },
    {
      "cell_type": "markdown",
      "metadata": {
        "id": "I5UJWFLaMXko"
      },
      "source": [
        "## Visualización por Área"
      ]
    },
    {
      "cell_type": "code",
      "metadata": {
        "ExecuteTime": {
          "end_time": "2019-12-08T22:03:28.127698Z",
          "start_time": "2019-12-08T22:03:27.680006Z"
        },
        "id": "Z-bPV4lLMXkp",
        "outputId": "33447c25-1c16-494e-c527-3e154cf1ab32",
        "colab": {
          "base_uri": "https://localhost:8080/",
          "height": 592
        }
      },
      "source": [
        "df_espanol.set_index('alpha_3')[['area']].sort_values([\"area\"]).plot(kind='bar',rot=65,figsize=(20,10))"
      ],
      "execution_count": 23,
      "outputs": [
        {
          "output_type": "execute_result",
          "data": {
            "text/plain": [
              "<matplotlib.axes._subplots.AxesSubplot at 0x7f7daf293b10>"
            ]
          },
          "metadata": {},
          "execution_count": 23
        },
        {
          "output_type": "display_data",
          "data": {
            "image/png": "[encoded data removed]",
            "text/plain": [
              "<Figure size 1440x720 with 1 Axes>"
            ]
          },
          "metadata": {
            "needs_background": "light"
          }
        }
      ]
    },
    {
      "cell_type": "code",
      "metadata": {
        "ExecuteTime": {
          "end_time": "2019-12-08T22:36:50.772742Z",
          "start_time": "2019-12-08T22:36:50.738258Z"
        },
        "id": "Xk0jZoJbMXkp",
        "outputId": "72356883-cac8-42d6-cade-cc19b3ab1c45",
        "colab": {
          "base_uri": "https://localhost:8080/",
          "height": 584
        }
      },
      "source": [
        "# En este caso, podriamos quitar por \"lo bajo\", area menor a 110.000 km2:\n",
        "df_2 = df_espanol.set_index('alpha_3')\n",
        "df_2 = df_2[df_2['area'] > 110000]\n",
        "df_2"
      ],
      "execution_count": 24,
      "outputs": [
        {
          "output_type": "execute_result",
          "data": {
            "text/html": [
              "<div>\n",
              "<style scoped>\n",
              "    .dataframe tbody tr th:only-of-type {\n",
              "        vertical-align: middle;\n",
              "    }\n",
              "\n",
              "    .dataframe tbody tr th {\n",
              "        vertical-align: top;\n",
              "    }\n",
              "\n",
              "    .dataframe thead th {\n",
              "        text-align: right;\n",
              "    }\n",
              "</style>\n",
              "<table border=\"1\" class=\"dataframe\">\n",
              "  <thead>\n",
              "    <tr style=\"text-align: right;\">\n",
              "      <th></th>\n",
              "      <th>alpha_2</th>\n",
              "      <th>area</th>\n",
              "      <th>capital</th>\n",
              "      <th>continent</th>\n",
              "      <th>currency_code</th>\n",
              "      <th>currency_name</th>\n",
              "      <th>eqivalent_fips_code</th>\n",
              "      <th>fips</th>\n",
              "      <th>geoname_id</th>\n",
              "      <th>languages</th>\n",
              "      <th>name</th>\n",
              "      <th>neighbours</th>\n",
              "      <th>numeric</th>\n",
              "      <th>phone</th>\n",
              "      <th>population</th>\n",
              "      <th>postal_code_format</th>\n",
              "      <th>postal_code_regex</th>\n",
              "      <th>tld</th>\n",
              "    </tr>\n",
              "    <tr>\n",
              "      <th>alpha_3</th>\n",
              "      <th></th>\n",
              "      <th></th>\n",
              "      <th></th>\n",
              "      <th></th>\n",
              "      <th></th>\n",
              "      <th></th>\n",
              "      <th></th>\n",
              "      <th></th>\n",
              "      <th></th>\n",
              "      <th></th>\n",
              "      <th></th>\n",
              "      <th></th>\n",
              "      <th></th>\n",
              "      <th></th>\n",
              "      <th></th>\n",
              "      <th></th>\n",
              "      <th></th>\n",
              "      <th></th>\n",
              "    </tr>\n",
              "  </thead>\n",
              "  <tbody>\n",
              "    <tr>\n",
              "      <th>ARG</th>\n",
              "      <td>AR</td>\n",
              "      <td>2766890.0</td>\n",
              "      <td>Buenos Aires</td>\n",
              "      <td>SA</td>\n",
              "      <td>ARS</td>\n",
              "      <td>Peso</td>\n",
              "      <td></td>\n",
              "      <td>AR</td>\n",
              "      <td>3865483</td>\n",
              "      <td>es-AR,en,it,de,fr,gn</td>\n",
              "      <td>Argentina</td>\n",
              "      <td>CL,BO,UY,PY,BR</td>\n",
              "      <td>32</td>\n",
              "      <td>54</td>\n",
              "      <td>41343201</td>\n",
              "      <td>@####@@@</td>\n",
              "      <td>^[A-Z]?\\d{4}[A-Z]{0,3}$</td>\n",
              "      <td>.ar</td>\n",
              "    </tr>\n",
              "    <tr>\n",
              "      <th>BOL</th>\n",
              "      <td>BO</td>\n",
              "      <td>1098580.0</td>\n",
              "      <td>Sucre</td>\n",
              "      <td>SA</td>\n",
              "      <td>BOB</td>\n",
              "      <td>Boliviano</td>\n",
              "      <td></td>\n",
              "      <td>BL</td>\n",
              "      <td>3923057</td>\n",
              "      <td>es-BO,qu,ay</td>\n",
              "      <td>Bolivia</td>\n",
              "      <td>PE,CL,PY,BR,AR</td>\n",
              "      <td>68</td>\n",
              "      <td>591</td>\n",
              "      <td>9947418</td>\n",
              "      <td></td>\n",
              "      <td></td>\n",
              "      <td>.bo</td>\n",
              "    </tr>\n",
              "    <tr>\n",
              "      <th>CHL</th>\n",
              "      <td>CL</td>\n",
              "      <td>756950.0</td>\n",
              "      <td>Santiago</td>\n",
              "      <td>SA</td>\n",
              "      <td>CLP</td>\n",
              "      <td>Peso</td>\n",
              "      <td></td>\n",
              "      <td>CI</td>\n",
              "      <td>3895114</td>\n",
              "      <td>es-CL</td>\n",
              "      <td>Chile</td>\n",
              "      <td>PE,BO,AR</td>\n",
              "      <td>152</td>\n",
              "      <td>56</td>\n",
              "      <td>16746491</td>\n",
              "      <td>#######</td>\n",
              "      <td>^(\\d{7})$</td>\n",
              "      <td>.cl</td>\n",
              "    </tr>\n",
              "    <tr>\n",
              "      <th>COL</th>\n",
              "      <td>CO</td>\n",
              "      <td>1138910.0</td>\n",
              "      <td>Bogota</td>\n",
              "      <td>SA</td>\n",
              "      <td>COP</td>\n",
              "      <td>Peso</td>\n",
              "      <td></td>\n",
              "      <td>CO</td>\n",
              "      <td>3686110</td>\n",
              "      <td>es-CO</td>\n",
              "      <td>Colombia</td>\n",
              "      <td>EC,PE,PA,BR,VE</td>\n",
              "      <td>170</td>\n",
              "      <td>57</td>\n",
              "      <td>47790000</td>\n",
              "      <td></td>\n",
              "      <td></td>\n",
              "      <td>.co</td>\n",
              "    </tr>\n",
              "    <tr>\n",
              "      <th>CUB</th>\n",
              "      <td>CU</td>\n",
              "      <td>110860.0</td>\n",
              "      <td>Havana</td>\n",
              "      <td></td>\n",
              "      <td>CUP</td>\n",
              "      <td>Peso</td>\n",
              "      <td></td>\n",
              "      <td>CU</td>\n",
              "      <td>3562981</td>\n",
              "      <td>es-CU</td>\n",
              "      <td>Cuba</td>\n",
              "      <td>US</td>\n",
              "      <td>192</td>\n",
              "      <td>53</td>\n",
              "      <td>11423000</td>\n",
              "      <td>CP #####</td>\n",
              "      <td>^(?:CP)*(\\d{5})$</td>\n",
              "      <td>.cu</td>\n",
              "    </tr>\n",
              "    <tr>\n",
              "      <th>ECU</th>\n",
              "      <td>EC</td>\n",
              "      <td>283560.0</td>\n",
              "      <td>Quito</td>\n",
              "      <td>SA</td>\n",
              "      <td>USD</td>\n",
              "      <td>Dollar</td>\n",
              "      <td></td>\n",
              "      <td>EC</td>\n",
              "      <td>3658394</td>\n",
              "      <td>es-EC</td>\n",
              "      <td>Ecuador</td>\n",
              "      <td>PE,CO</td>\n",
              "      <td>218</td>\n",
              "      <td>593</td>\n",
              "      <td>14790608</td>\n",
              "      <td>@####@</td>\n",
              "      <td>^([a-zA-Z]\\d{4}[a-zA-Z])$</td>\n",
              "      <td>.ec</td>\n",
              "    </tr>\n",
              "    <tr>\n",
              "      <th>ESP</th>\n",
              "      <td>ES</td>\n",
              "      <td>504782.0</td>\n",
              "      <td>Madrid</td>\n",
              "      <td>EU</td>\n",
              "      <td>EUR</td>\n",
              "      <td>Euro</td>\n",
              "      <td></td>\n",
              "      <td>SP</td>\n",
              "      <td>2510769</td>\n",
              "      <td>es-ES,ca,gl,eu,oc</td>\n",
              "      <td>Spain</td>\n",
              "      <td>AD,PT,GI,FR,MA</td>\n",
              "      <td>724</td>\n",
              "      <td>34</td>\n",
              "      <td>46505963</td>\n",
              "      <td>#####</td>\n",
              "      <td>^(\\d{5})$</td>\n",
              "      <td>.es</td>\n",
              "    </tr>\n",
              "    <tr>\n",
              "      <th>HND</th>\n",
              "      <td>HN</td>\n",
              "      <td>112090.0</td>\n",
              "      <td>Tegucigalpa</td>\n",
              "      <td></td>\n",
              "      <td>HNL</td>\n",
              "      <td>Lempira</td>\n",
              "      <td></td>\n",
              "      <td>HO</td>\n",
              "      <td>3608932</td>\n",
              "      <td>es-HN</td>\n",
              "      <td>Honduras</td>\n",
              "      <td>GT,NI,SV</td>\n",
              "      <td>340</td>\n",
              "      <td>504</td>\n",
              "      <td>7989415</td>\n",
              "      <td>@@####</td>\n",
              "      <td>^([A-Z]{2}\\d{4})$</td>\n",
              "      <td>.hn</td>\n",
              "    </tr>\n",
              "    <tr>\n",
              "      <th>MEX</th>\n",
              "      <td>MX</td>\n",
              "      <td>1972550.0</td>\n",
              "      <td>Mexico City</td>\n",
              "      <td></td>\n",
              "      <td>MXN</td>\n",
              "      <td>Peso</td>\n",
              "      <td></td>\n",
              "      <td>MX</td>\n",
              "      <td>3996063</td>\n",
              "      <td>es-MX</td>\n",
              "      <td>Mexico</td>\n",
              "      <td>GT,US,BZ</td>\n",
              "      <td>484</td>\n",
              "      <td>52</td>\n",
              "      <td>112468855</td>\n",
              "      <td>#####</td>\n",
              "      <td>^(\\d{5})$</td>\n",
              "      <td>.mx</td>\n",
              "    </tr>\n",
              "    <tr>\n",
              "      <th>NIC</th>\n",
              "      <td>NI</td>\n",
              "      <td>129494.0</td>\n",
              "      <td>Managua</td>\n",
              "      <td></td>\n",
              "      <td>NIO</td>\n",
              "      <td>Cordoba</td>\n",
              "      <td></td>\n",
              "      <td>NU</td>\n",
              "      <td>3617476</td>\n",
              "      <td>es-NI,en</td>\n",
              "      <td>Nicaragua</td>\n",
              "      <td>CR,HN</td>\n",
              "      <td>558</td>\n",
              "      <td>505</td>\n",
              "      <td>5995928</td>\n",
              "      <td>###-###-#</td>\n",
              "      <td>^(\\d{7})$</td>\n",
              "      <td>.ni</td>\n",
              "    </tr>\n",
              "    <tr>\n",
              "      <th>PER</th>\n",
              "      <td>PE</td>\n",
              "      <td>1285220.0</td>\n",
              "      <td>Lima</td>\n",
              "      <td>SA</td>\n",
              "      <td>PEN</td>\n",
              "      <td>Sol</td>\n",
              "      <td></td>\n",
              "      <td>PE</td>\n",
              "      <td>3932488</td>\n",
              "      <td>es-PE,qu,ay</td>\n",
              "      <td>Peru</td>\n",
              "      <td>EC,CL,BO,BR,CO</td>\n",
              "      <td>604</td>\n",
              "      <td>51</td>\n",
              "      <td>29907003</td>\n",
              "      <td></td>\n",
              "      <td></td>\n",
              "      <td>.pe</td>\n",
              "    </tr>\n",
              "    <tr>\n",
              "      <th>PRY</th>\n",
              "      <td>PY</td>\n",
              "      <td>406750.0</td>\n",
              "      <td>Asuncion</td>\n",
              "      <td>SA</td>\n",
              "      <td>PYG</td>\n",
              "      <td>Guarani</td>\n",
              "      <td></td>\n",
              "      <td>PA</td>\n",
              "      <td>3437598</td>\n",
              "      <td>es-PY,gn</td>\n",
              "      <td>Paraguay</td>\n",
              "      <td>BO,BR,AR</td>\n",
              "      <td>600</td>\n",
              "      <td>595</td>\n",
              "      <td>6375830</td>\n",
              "      <td>####</td>\n",
              "      <td>^(\\d{4})$</td>\n",
              "      <td>.py</td>\n",
              "    </tr>\n",
              "    <tr>\n",
              "      <th>URY</th>\n",
              "      <td>UY</td>\n",
              "      <td>176220.0</td>\n",
              "      <td>Montevideo</td>\n",
              "      <td>SA</td>\n",
              "      <td>UYU</td>\n",
              "      <td>Peso</td>\n",
              "      <td></td>\n",
              "      <td>UY</td>\n",
              "      <td>3439705</td>\n",
              "      <td>es-UY</td>\n",
              "      <td>Uruguay</td>\n",
              "      <td>BR,AR</td>\n",
              "      <td>858</td>\n",
              "      <td>598</td>\n",
              "      <td>3477000</td>\n",
              "      <td>#####</td>\n",
              "      <td>^(\\d{5})$</td>\n",
              "      <td>.uy</td>\n",
              "    </tr>\n",
              "    <tr>\n",
              "      <th>VEN</th>\n",
              "      <td>VE</td>\n",
              "      <td>912050.0</td>\n",
              "      <td>Caracas</td>\n",
              "      <td>SA</td>\n",
              "      <td>VEF</td>\n",
              "      <td>Bolivar</td>\n",
              "      <td></td>\n",
              "      <td>VE</td>\n",
              "      <td>3625428</td>\n",
              "      <td>es-VE</td>\n",
              "      <td>Venezuela</td>\n",
              "      <td>GY,BR,CO</td>\n",
              "      <td>862</td>\n",
              "      <td>58</td>\n",
              "      <td>27223228</td>\n",
              "      <td>####</td>\n",
              "      <td>^(\\d{4})$</td>\n",
              "      <td>.ve</td>\n",
              "    </tr>\n",
              "  </tbody>\n",
              "</table>\n",
              "</div>"
            ],
            "text/plain": [
              "        alpha_2       area  ...          postal_code_regex  tld\n",
              "alpha_3                     ...                                \n",
              "ARG          AR  2766890.0  ...    ^[A-Z]?\\d{4}[A-Z]{0,3}$  .ar\n",
              "BOL          BO  1098580.0  ...                             .bo\n",
              "CHL          CL   756950.0  ...                  ^(\\d{7})$  .cl\n",
              "COL          CO  1138910.0  ...                             .co\n",
              "CUB          CU   110860.0  ...           ^(?:CP)*(\\d{5})$  .cu\n",
              "ECU          EC   283560.0  ...  ^([a-zA-Z]\\d{4}[a-zA-Z])$  .ec\n",
              "ESP          ES   504782.0  ...                  ^(\\d{5})$  .es\n",
              "HND          HN   112090.0  ...          ^([A-Z]{2}\\d{4})$  .hn\n",
              "MEX          MX  1972550.0  ...                  ^(\\d{5})$  .mx\n",
              "NIC          NI   129494.0  ...                  ^(\\d{7})$  .ni\n",
              "PER          PE  1285220.0  ...                             .pe\n",
              "PRY          PY   406750.0  ...                  ^(\\d{4})$  .py\n",
              "URY          UY   176220.0  ...                  ^(\\d{5})$  .uy\n",
              "VEN          VE   912050.0  ...                  ^(\\d{4})$  .ve\n",
              "\n",
              "[14 rows x 18 columns]"
            ]
          },
          "metadata": {},
          "execution_count": 24
        }
      ]
    },
    {
      "cell_type": "code",
      "metadata": {
        "ExecuteTime": {
          "end_time": "2019-12-08T22:36:55.622303Z",
          "start_time": "2019-12-08T22:36:55.227650Z"
        },
        "id": "9RYkDIKGMXkp",
        "outputId": "52295f51-f48f-4b0f-f3eb-0d9d8d5ef5ab",
        "colab": {
          "base_uri": "https://localhost:8080/",
          "height": 591
        }
      },
      "source": [
        "df_2[['area']].sort_values([\"area\"]).plot(kind='bar',rot=65,figsize=(20,10))"
      ],
      "execution_count": 25,
      "outputs": [
        {
          "output_type": "execute_result",
          "data": {
            "text/plain": [
              "<matplotlib.axes._subplots.AxesSubplot at 0x7f7daf2b2990>"
            ]
          },
          "metadata": {},
          "execution_count": 25
        },
        {
          "output_type": "display_data",
          "data": {
            "image/png": "[encoded data removed]",
            "text/plain": [
              "<Figure size 1440x720 with 1 Axes>"
            ]
          },
          "metadata": {
            "needs_background": "light"
          }
        }
      ]
    },
    {
      "cell_type": "code",
      "metadata": {
        "id": "1eo0G--oMXkp"
      },
      "source": [
        ""
      ],
      "execution_count": 25,
      "outputs": []
    }
  ]
}