{
  "nbformat": 4,
  "nbformat_minor": 0,
  "metadata": {
    "kernelspec": {
      "display_name": "Python 3",
      "language": "python",
      "name": "python3"
    },
    "language_info": {
      "codemirror_mode": {
        "name": "ipython",
        "version": 3
      },
      "file_extension": ".py",
      "mimetype": "text/x-python",
      "name": "python",
      "nbconvert_exporter": "python",
      "pygments_lexer": "ipython3",
      "version": "3.9.3-final"
    },
    "colab": {
      "name": "Ejercicios_Matplotlib_notas.ipynb",
      "provenance": []
    }
  },
  "cells": [
    {
      "cell_type": "markdown",
      "metadata": {
        "id": "kAgBkzcRF090"
      },
      "source": [
        "1. Escribir una función que reciba una diccionario con las notas de las asignaturas de un curso y una cadena con el nombre de un color y devuelva un diagrama de barras de las notas en el color dado."
      ]
    },
    {
      "cell_type": "code",
      "metadata": {
        "id": "sHMH0PNYF095",
        "colab": {
          "base_uri": "https://localhost:8080/",
          "height": 265
        },
        "outputId": "e8f20f4e-b0e3-4337-921b-edabb1ecb6d5"
      },
      "source": [
        "import matplotlib.pyplot as plt \n",
        "\n",
        "def diagrama_barras_notas(notas, color):\n",
        "    '''Función que construye un diagrama de barras con las notas de las asignaturas de un curso.\n",
        "    \n",
        "    Parámetros:\n",
        "        - notas: Es un diccionario formado por pares con clave el nombre de la asignaturay valor la nota.\n",
        "        - color: Es una cadena con el color de las barras.\n",
        "    \n",
        "    Salida:\n",
        "        - Un diagrama de barras con las notas del diccionario dado en el color dado.\n",
        "    '''\n",
        "    # Definimos la figura y los ejes del gráfico con Matplotlib\n",
        "    fig, ax = plt.subplots()\n",
        "    # Dibujamos las barras con las notas a partir del diccionario\n",
        "    ax.bar(notas.keys(), notas.values(), color = color)\n",
        "    # Devolvemos un objeto con los ejes y las barras que contienen\n",
        "    return ax\n",
        "\n",
        "notas = {'Programación':9, 'Mates':6.5, 'Economía':4, 'Historia': 8}\n",
        "diagrama_barras_notas(notas, 'green')\n",
        "plt.show()"
      ],
      "execution_count": 1,
      "outputs": [
        {
          "output_type": "display_data",
          "data": {
            "image/png": "[encoded data removed]",
            "text/plain": [
              "<Figure size 432x288 with 1 Axes>"
            ]
          },
          "metadata": {
            "needs_background": "light"
          }
        }
      ]
    },
    {
      "cell_type": "code",
      "metadata": {
        "colab": {
          "base_uri": "https://localhost:8080/",
          "height": 173
        },
        "id": "GJ-Qfn-VI8EK",
        "outputId": "60411d10-590d-4b0a-f1ec-78aae79b281c"
      },
      "source": [
        "import pandas as pd\n",
        "import seaborn as sns\n",
        "notas2=pd.DataFrame(index=notas.keys(), data=notas.values(), columns=[\"Nota\"])\n",
        "\n",
        "notas2"
      ],
      "execution_count": 2,
      "outputs": [
        {
          "output_type": "execute_result",
          "data": {
            "text/html": [
              "<div>\n",
              "<style scoped>\n",
              "    .dataframe tbody tr th:only-of-type {\n",
              "        vertical-align: middle;\n",
              "    }\n",
              "\n",
              "    .dataframe tbody tr th {\n",
              "        vertical-align: top;\n",
              "    }\n",
              "\n",
              "    .dataframe thead th {\n",
              "        text-align: right;\n",
              "    }\n",
              "</style>\n",
              "<table border=\"1\" class=\"dataframe\">\n",
              "  <thead>\n",
              "    <tr style=\"text-align: right;\">\n",
              "      <th></th>\n",
              "      <th>Nota</th>\n",
              "    </tr>\n",
              "  </thead>\n",
              "  <tbody>\n",
              "    <tr>\n",
              "      <th>Programación</th>\n",
              "      <td>9.0</td>\n",
              "    </tr>\n",
              "    <tr>\n",
              "      <th>Mates</th>\n",
              "      <td>6.5</td>\n",
              "    </tr>\n",
              "    <tr>\n",
              "      <th>Economía</th>\n",
              "      <td>4.0</td>\n",
              "    </tr>\n",
              "    <tr>\n",
              "      <th>Historia</th>\n",
              "      <td>8.0</td>\n",
              "    </tr>\n",
              "  </tbody>\n",
              "</table>\n",
              "</div>"
            ],
            "text/plain": [
              "              Nota\n",
              "Programación   9.0\n",
              "Mates          6.5\n",
              "Economía       4.0\n",
              "Historia       8.0"
            ]
          },
          "metadata": {},
          "execution_count": 2
        }
      ]
    },
    {
      "cell_type": "code",
      "metadata": {
        "colab": {
          "base_uri": "https://localhost:8080/",
          "height": 341
        },
        "id": "k4afKrD2KP0A",
        "outputId": "f3c62415-2cec-4865-c436-660b047167df"
      },
      "source": [
        "notas2.plot.bar()"
      ],
      "execution_count": 3,
      "outputs": [
        {
          "output_type": "execute_result",
          "data": {
            "text/plain": [
              "<matplotlib.axes._subplots.AxesSubplot at 0x7f93e4571990>"
            ]
          },
          "metadata": {},
          "execution_count": 3
        },
        {
          "output_type": "display_data",
          "data": {
            "image/png": "[encoded data removed]",
            "text/plain": [
              "<Figure size 432x288 with 1 Axes>"
            ]
          },
          "metadata": {
            "needs_background": "light"
          }
        }
      ]
    },
    {
      "cell_type": "markdown",
      "metadata": {
        "id": "rPfth9iCE0kZ"
      },
      "source": [
        "2. Escribir una función que reciba una serie de Pandas con las notas de los alumnos de un curso y devuelva un diagrama de cajas con las notas. El diagrama debe tener el título \"Distribución de notas\"."
      ]
    },
    {
      "cell_type": "code",
      "metadata": {
        "id": "bghhzOURE0ke",
        "colab": {
          "base_uri": "https://localhost:8080/",
          "height": 267
        },
        "outputId": "279fcc0b-f08a-42eb-b690-f27eaed15a36"
      },
      "source": [
        "import pandas as pd \n",
        "import matplotlib.pyplot as plt \n",
        "\n",
        "def diagrama_caja_notas(notas):\n",
        "    '''Función que construye un diagrama de cajas con las notas de los alumnos de un curso.\n",
        "    \n",
        "    Parámetros:\n",
        "        - notas: Es una serie de Pandas con las notas de los alumnos.\n",
        "    '''\n",
        "    # Definimos la figura y los ejes del gráfico con Matplotlib\n",
        "    fig, ax = plt.subplots()\n",
        "    # Dibujamos los sectores con las verntas a partir de la serie\n",
        "    notas.plot(kind = 'box', ax = ax)\n",
        "    # Eliminamos las marcas del eje x \n",
        "    plt.xticks([])\n",
        "    # \n",
        "    # Añadimos el título\n",
        "    plt.title('Distribución de notas')\n",
        "    # Devolvemos el objeto con los ejes y el gráfico que contienten\n",
        "    return ax\n",
        "\n",
        "notas = [4, 8, 7.5, 6, 5.5, 5.2, 3.5, 7.7, 3.2, 9, 6.8]\n",
        "s_notas = pd.Series(notas)\n",
        "diagrama_caja_notas(s_notas)\n",
        "plt.show()"
      ],
      "execution_count": 4,
      "outputs": [
        {
          "output_type": "display_data",
          "data": {
            "image/png": "[encoded data removed]",
            "text/plain": [
              "<Figure size 432x288 with 1 Axes>"
            ]
          },
          "metadata": {
            "needs_background": "light"
          }
        }
      ]
    },
    {
      "cell_type": "code",
      "metadata": {
        "id": "BDt43zVwG_mo"
      },
      "source": [
        "import seaborn as sns\n",
        "sns.set()"
      ],
      "execution_count": 5,
      "outputs": []
    },
    {
      "cell_type": "code",
      "metadata": {
        "colab": {
          "base_uri": "https://localhost:8080/",
          "height": 267
        },
        "id": "LlwBN3NsHGOn",
        "outputId": "0a5b8aa9-fdda-41db-dd06-2394e3cd928c"
      },
      "source": [
        "sns.boxplot(y=s_notas)"
      ],
      "execution_count": 6,
      "outputs": [
        {
          "output_type": "execute_result",
          "data": {
            "text/plain": [
              "<matplotlib.axes._subplots.AxesSubplot at 0x7f93e4519190>"
            ]
          },
          "metadata": {},
          "execution_count": 6
        },
        {
          "output_type": "display_data",
          "data": {
            "image/png": "[encoded data removed]",
            "text/plain": [
              "<Figure size 432x288 with 1 Axes>"
            ]
          },
          "metadata": {}
        }
      ]
    },
    {
      "cell_type": "code",
      "metadata": {
        "colab": {
          "base_uri": "https://localhost:8080/",
          "height": 267
        },
        "id": "LCG6sLQeH1Qh",
        "outputId": "1cec742c-18a7-405b-eedd-3fc8fa317340"
      },
      "source": [
        "sns.swarmplot(y=s_notas)"
      ],
      "execution_count": 7,
      "outputs": [
        {
          "output_type": "execute_result",
          "data": {
            "text/plain": [
              "<matplotlib.axes._subplots.AxesSubplot at 0x7f93e440ae50>"
            ]
          },
          "metadata": {},
          "execution_count": 7
        },
        {
          "output_type": "display_data",
          "data": {
            "image/png": "[encoded data removed]",
            "text/plain": [
              "<Figure size 432x288 with 1 Axes>"
            ]
          },
          "metadata": {}
        }
      ]
    },
    {
      "cell_type": "code",
      "metadata": {
        "colab": {
          "base_uri": "https://localhost:8080/",
          "height": 265
        },
        "id": "suP_pl61H6dY",
        "outputId": "2a656334-b58b-47ed-afa9-ed7760d06b42"
      },
      "source": [
        "sns.violinplot(y=s_notas)"
      ],
      "execution_count": 8,
      "outputs": [
        {
          "output_type": "execute_result",
          "data": {
            "text/plain": [
              "<matplotlib.axes._subplots.AxesSubplot at 0x7f93dbb75450>"
            ]
          },
          "metadata": {},
          "execution_count": 8
        },
        {
          "output_type": "display_data",
          "data": {
            "image/png": "[encoded data removed]",
            "text/plain": [
              "<Figure size 432x288 with 1 Axes>"
            ]
          },
          "metadata": {}
        }
      ]
    }
  ]
}