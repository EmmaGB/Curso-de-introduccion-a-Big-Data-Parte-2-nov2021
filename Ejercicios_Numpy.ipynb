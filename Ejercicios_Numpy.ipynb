{
  "nbformat": 4,
  "nbformat_minor": 0,
  "metadata": {
    "kernelspec": {
      "display_name": "Python [Root]",
      "language": "python",
      "name": "Python [Root]"
    },
    "language_info": {
      "codemirror_mode": {
        "name": "ipython",
        "version": 3
      },
      "file_extension": ".py",
      "mimetype": "text/x-python",
      "name": "python",
      "nbconvert_exporter": "python",
      "pygments_lexer": "ipython3",
      "version": "3.5.2"
    },
    "colab": {
      "name": "Ejercicios_Numpy.ipynb",
      "provenance": []
    }
  },
  "cells": [
    {
      "cell_type": "markdown",
      "metadata": {
        "id": "1RFu-SqY9YzC"
      },
      "source": [
        "1. Crear un array con valores dentro del rango 10 a 49"
      ]
    },
    {
      "cell_type": "markdown",
      "metadata": {
        "id": "ohjn9gA39YzE"
      },
      "source": [
        "2. Invertir el array"
      ]
    },
    {
      "cell_type": "markdown",
      "metadata": {
        "id": "Ou9NcGGF9YzF"
      },
      "source": [
        "3. Crear una array o matriz 1D con valores de 0 a 8. Cambiar la forma de la matriz a 3x3"
      ]
    },
    {
      "cell_type": "markdown",
      "metadata": {
        "id": "hFxWSSsA9YzI"
      },
      "source": [
        "4. Crear una matriz identidad de 6x6"
      ]
    },
    {
      "cell_type": "markdown",
      "metadata": {
        "id": "3D2-jcNS9YzJ"
      },
      "source": [
        "5. Crear una matriz con valores al azar con forma 3x3x3 "
      ]
    },
    {
      "cell_type": "markdown",
      "metadata": {
        "id": "WX2GXD4L9YzK"
      },
      "source": [
        "6. Encontrar los indices de los valores minimos y maximos de la anterior matriz"
      ]
    },
    {
      "cell_type": "markdown",
      "metadata": {
        "id": "SWxt_CgB9YzM"
      },
      "source": [
        "7. Crear dos arrays al azar A y B, verificar si son iguales"
      ]
    },
    {
      "cell_type": "markdown",
      "metadata": {
        "id": "wvRe-Jhd9YzH"
      },
      "source": [
        "8. Encontrar los indices que no son ceros del array [1,2,4,2,4,0,1,0,0,0,12,4,5,6,7,0]"
      ]
    },
    {
      "cell_type": "markdown",
      "metadata": {
        "id": "9vVPScoa9YzK"
      },
      "source": [
        "9. Crear una matriz de 10x10 con 1's en los bordes y 0 en el interior (con rangos de indices)"
      ]
    },
    {
      "cell_type": "markdown",
      "metadata": {
        "id": "NTKSyjX09YzL"
      },
      "source": [
        "10. Crear una matriz de 5x5 con valores en los renglones que vayan de 0 a 4"
      ]
    }
  ]
}