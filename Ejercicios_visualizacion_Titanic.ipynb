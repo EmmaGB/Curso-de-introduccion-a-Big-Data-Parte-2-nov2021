{
  "nbformat": 4,
  "nbformat_minor": 0,
  "metadata": {
    "kernelspec": {
      "display_name": "Python 3",
      "language": "python",
      "name": "python3"
    },
    "language_info": {
      "codemirror_mode": {
        "name": "ipython",
        "version": 3
      },
      "file_extension": ".py",
      "mimetype": "text/x-python",
      "name": "python",
      "nbconvert_exporter": "python",
      "pygments_lexer": "ipython3",
      "version": "3.9.3-final"
    },
    "colab": {
      "name": "Ejercicios_visualizacion_Titanic.ipynb",
      "provenance": []
    }
  },
  "cells": [
    {
      "cell_type": "markdown",
      "metadata": {
        "id": "NInzknIDyC8o"
      },
      "source": [
        "El fichero train.csv contiene información sobre los pasajeros del Titanic. \n",
        "\n",
        "Descargue el fichero train.csv en su ordenador desde\n",
        "https://www.kaggle.com/c/titanic/data?select=train.csv\n",
        "\n",
        "Suba el fichero train.csv a la carpeta sample_data de Google Colab\n",
        "\n",
        "Cree un dataframe con Pandas y a partir de él generar los siguientes diagramas.\n"
      ]
    },
    {
      "cell_type": "markdown",
      "metadata": {
        "id": "T4RVEoUTyC8r"
      },
      "source": [
        "1. Diagrama de sectores con los fallecidos y supervivientes."
      ]
    },
    {
      "cell_type": "markdown",
      "metadata": {
        "id": "lK9vXjnCkYal"
      },
      "source": [
        "2. Histograma con las edades."
      ]
    },
    {
      "cell_type": "markdown",
      "metadata": {
        "id": "kupxk4cFkc0d"
      },
      "source": [
        "3. Diagrama de barras con el número de personas en cada clase."
      ]
    },
    {
      "cell_type": "markdown",
      "metadata": {
        "id": "vElTjKvTkgNm"
      },
      "source": [
        "4. Diagrama de barras con el número de personas fallecidas y supervivientes de cada clase"
      ]
    },
    {
      "cell_type": "markdown",
      "metadata": {
        "id": "2SalVOkFkrEH"
      },
      "source": [
        "5. Diagrama de barras con el número de personas fallecidas y supervivientes acumuladas de cada clase"
      ]
    }
  ]
}