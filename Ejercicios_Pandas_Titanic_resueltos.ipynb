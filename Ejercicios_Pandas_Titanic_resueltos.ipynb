{
  "nbformat": 4,
  "nbformat_minor": 0,
  "metadata": {
    "kernelspec": {
      "display_name": "Python 3",
      "language": "python",
      "name": "python3"
    },
    "language_info": {
      "codemirror_mode": {
        "name": "ipython",
        "version": 3
      },
      "file_extension": ".py",
      "mimetype": "text/x-python",
      "name": "python",
      "nbconvert_exporter": "python",
      "pygments_lexer": "ipython3",
      "version": "3.7.6-final"
    },
    "colab": {
      "name": "Ejercicios_Pandas_Titanic_resueltos.ipynb",
      "provenance": []
    }
  },
  "cells": [
    {
      "cell_type": "markdown",
      "metadata": {
        "id": "gxkJQdN0xwrc"
      },
      "source": [
        "El fichero train.csv contiene información sobre los pasajeros del Titanic. \n",
        "\n",
        "Descargue el fichero train.csv en su ordenador desde\n",
        "https://www.kaggle.com/c/titanic/data?select=train.csv\n",
        "\n",
        "Suba el fichero train.csv a la carpeta sample_data de Google Colab\n",
        "\n"
      ]
    },
    {
      "cell_type": "markdown",
      "metadata": {
        "id": "6zmAfFTQeC5F"
      },
      "source": [
        "1. Generar un DataFrame con los datos del fichero."
      ]
    },
    {
      "cell_type": "code",
      "metadata": {
        "id": "uZLPJCFdxwrh",
        "colab": {
          "base_uri": "https://localhost:8080/"
        },
        "outputId": "ad01cfcc-740b-4bb2-c895-8f8ba2d120a9"
      },
      "source": [
        "import pandas as pd\n",
        "\n",
        "# Generar un DataFrame con los datos del fichero.\n",
        "titanic = pd.read_csv('sample_data/train.csv', index_col=0)\n",
        "\n",
        "print(titanic)"
      ],
      "execution_count": 34,
      "outputs": [
        {
          "output_type": "stream",
          "name": "stdout",
          "text": [
            "             Survived  Pclass  ... Cabin Embarked\n",
            "PassengerId                    ...               \n",
            "1                   0       3  ...   NaN        S\n",
            "2                   1       1  ...   C85        C\n",
            "3                   1       3  ...   NaN        S\n",
            "4                   1       1  ...  C123        S\n",
            "5                   0       3  ...   NaN        S\n",
            "...               ...     ...  ...   ...      ...\n",
            "887                 0       2  ...   NaN        S\n",
            "888                 1       1  ...   B42        S\n",
            "889                 0       3  ...   NaN        S\n",
            "890                 1       1  ...  C148        C\n",
            "891                 0       3  ...   NaN        Q\n",
            "\n",
            "[891 rows x 11 columns]\n"
          ]
        }
      ]
    },
    {
      "cell_type": "markdown",
      "metadata": {
        "id": "ResIFXP6eJfE"
      },
      "source": [
        "2. Mostrar por pantalla las dimensiones del DataFrame y el número de datos que contiene"
      ]
    },
    {
      "cell_type": "code",
      "metadata": {
        "colab": {
          "base_uri": "https://localhost:8080/"
        },
        "id": "rMv5GtUuEl4X",
        "outputId": "c0a9ebf7-dbe9-4a84-8ed5-587e7d8561f9"
      },
      "source": [
        "print('Dimensiones:', titanic.shape)\n",
        "print('Número de elemntos:', titanic.size)"
      ],
      "execution_count": 35,
      "outputs": [
        {
          "output_type": "stream",
          "name": "stdout",
          "text": [
            "Dimensiones: (891, 11)\n",
            "Número de elemntos: 9801\n"
          ]
        }
      ]
    },
    {
      "cell_type": "markdown",
      "metadata": {
        "id": "Guy_8RLwEDi3"
      },
      "source": [
        "3. Mostrar los nombres de sus columnas y filas"
      ]
    },
    {
      "cell_type": "code",
      "metadata": {
        "colab": {
          "base_uri": "https://localhost:8080/"
        },
        "id": "vy0r5qN7EvvI",
        "outputId": "090842e7-4c57-4500-c3b7-0f676aa3af56"
      },
      "source": [
        "print('Nombres de columnas:', titanic.columns)\n",
        "print('Nombres de filas:', titanic.index)"
      ],
      "execution_count": 36,
      "outputs": [
        {
          "output_type": "stream",
          "name": "stdout",
          "text": [
            "Nombres de columnas: Index(['Survived', 'Pclass', 'Name', 'Sex', 'Age', 'SibSp', 'Parch', 'Ticket',\n",
            "       'Fare', 'Cabin', 'Embarked'],\n",
            "      dtype='object')\n",
            "Nombres de filas: Int64Index([  1,   2,   3,   4,   5,   6,   7,   8,   9,  10,\n",
            "            ...\n",
            "            882, 883, 884, 885, 886, 887, 888, 889, 890, 891],\n",
            "           dtype='int64', name='PassengerId', length=891)\n"
          ]
        }
      ]
    },
    {
      "cell_type": "markdown",
      "metadata": {
        "id": "IrW08rrTERPp"
      },
      "source": [
        "4. Mostrar los tipos de datos del DataFrame\n",
        "\n"
      ]
    },
    {
      "cell_type": "code",
      "metadata": {
        "colab": {
          "base_uri": "https://localhost:8080/"
        },
        "id": "yj6ppZHNEmle",
        "outputId": "e2776d01-8854-42c8-93cf-b3778ec1a95d"
      },
      "source": [
        "print('Tipos de datos:\\n', titanic.dtypes)"
      ],
      "execution_count": 37,
      "outputs": [
        {
          "output_type": "stream",
          "name": "stdout",
          "text": [
            "Tipos de datos:\n",
            " Survived      int64\n",
            "Pclass        int64\n",
            "Name         object\n",
            "Sex          object\n",
            "Age         float64\n",
            "SibSp         int64\n",
            "Parch         int64\n",
            "Ticket       object\n",
            "Fare        float64\n",
            "Cabin        object\n",
            "Embarked     object\n",
            "dtype: object\n"
          ]
        }
      ]
    },
    {
      "cell_type": "code",
      "metadata": {
        "colab": {
          "base_uri": "https://localhost:8080/"
        },
        "id": "cKiGTE84E9QX",
        "outputId": "27d39657-566b-48a4-e83d-6c6ffecabce7"
      },
      "source": [
        "titanic.info()"
      ],
      "execution_count": 38,
      "outputs": [
        {
          "output_type": "stream",
          "name": "stdout",
          "text": [
            "<class 'pandas.core.frame.DataFrame'>\n",
            "Int64Index: 891 entries, 1 to 891\n",
            "Data columns (total 11 columns):\n",
            " #   Column    Non-Null Count  Dtype  \n",
            "---  ------    --------------  -----  \n",
            " 0   Survived  891 non-null    int64  \n",
            " 1   Pclass    891 non-null    int64  \n",
            " 2   Name      891 non-null    object \n",
            " 3   Sex       891 non-null    object \n",
            " 4   Age       714 non-null    float64\n",
            " 5   SibSp     891 non-null    int64  \n",
            " 6   Parch     891 non-null    int64  \n",
            " 7   Ticket    891 non-null    object \n",
            " 8   Fare      891 non-null    float64\n",
            " 9   Cabin     204 non-null    object \n",
            " 10  Embarked  889 non-null    object \n",
            "dtypes: float64(2), int64(4), object(5)\n",
            "memory usage: 83.5+ KB\n"
          ]
        }
      ]
    },
    {
      "cell_type": "markdown",
      "metadata": {
        "id": "LGToZo5bEbww"
      },
      "source": [
        "5. Mostrar las 10 primeras filas y las 10 últimas filas."
      ]
    },
    {
      "cell_type": "code",
      "metadata": {
        "id": "JCwLlygSxwrj",
        "colab": {
          "base_uri": "https://localhost:8080/"
        },
        "outputId": "7243ffef-3a86-4aab-dcd2-a58136069f5f"
      },
      "source": [
        "print('Primeras 10 filas:\\n', titanic.head(10))\n",
        "print('Últimas 10 filas:\\n', titanic.tail(10))"
      ],
      "execution_count": 39,
      "outputs": [
        {
          "output_type": "stream",
          "name": "stdout",
          "text": [
            "Primeras 10 filas:\n",
            "              Survived  Pclass  ... Cabin Embarked\n",
            "PassengerId                    ...               \n",
            "1                   0       3  ...   NaN        S\n",
            "2                   1       1  ...   C85        C\n",
            "3                   1       3  ...   NaN        S\n",
            "4                   1       1  ...  C123        S\n",
            "5                   0       3  ...   NaN        S\n",
            "6                   0       3  ...   NaN        Q\n",
            "7                   0       1  ...   E46        S\n",
            "8                   0       3  ...   NaN        S\n",
            "9                   1       3  ...   NaN        S\n",
            "10                  1       2  ...   NaN        C\n",
            "\n",
            "[10 rows x 11 columns]\n",
            "Últimas 10 filas:\n",
            "              Survived  Pclass  ... Cabin Embarked\n",
            "PassengerId                    ...               \n",
            "882                 0       3  ...   NaN        S\n",
            "883                 0       3  ...   NaN        S\n",
            "884                 0       2  ...   NaN        S\n",
            "885                 0       3  ...   NaN        S\n",
            "886                 0       3  ...   NaN        Q\n",
            "887                 0       2  ...   NaN        S\n",
            "888                 1       1  ...   B42        S\n",
            "889                 0       3  ...   NaN        S\n",
            "890                 1       1  ...  C148        C\n",
            "891                 0       3  ...   NaN        Q\n",
            "\n",
            "[10 rows x 11 columns]\n"
          ]
        }
      ]
    },
    {
      "cell_type": "markdown",
      "metadata": {
        "id": "GEnDfKDveOtU"
      },
      "source": [
        "6. Mostrar por pantalla los datos del pasajero con identificador 148"
      ]
    },
    {
      "cell_type": "code",
      "metadata": {
        "id": "7U2haXw3xwrj",
        "colab": {
          "base_uri": "https://localhost:8080/"
        },
        "outputId": "db6d4640-2a7c-4d43-c300-fd31bab13f59"
      },
      "source": [
        "# Mostrar por pantalla los datos del pasajero con identificador 148\n",
        "print(titanic.loc[148])"
      ],
      "execution_count": 40,
      "outputs": [
        {
          "output_type": "stream",
          "name": "stdout",
          "text": [
            "Survived                                   0\n",
            "Pclass                                     3\n",
            "Name        Ford, Miss. Robina Maggie \"Ruby\"\n",
            "Sex                                   female\n",
            "Age                                        9\n",
            "SibSp                                      2\n",
            "Parch                                      2\n",
            "Ticket                            W./C. 6608\n",
            "Fare                                  34.375\n",
            "Cabin                                    NaN\n",
            "Embarked                                   S\n",
            "Name: 148, dtype: object\n"
          ]
        }
      ]
    },
    {
      "cell_type": "code",
      "metadata": {
        "colab": {
          "base_uri": "https://localhost:8080/"
        },
        "id": "EslxkYHwIez2",
        "outputId": "5c008416-e4f4-4f84-c56d-9b7b3c94ceaf"
      },
      "source": [
        "#Veamos la diferencia con iloc\n",
        "# .loc localiza por nombre en el índice\n",
        "# .iloc localiza por posición en la tabla\n",
        "titanic.iloc[148]"
      ],
      "execution_count": 41,
      "outputs": [
        {
          "output_type": "execute_result",
          "data": {
            "text/plain": [
              "Survived                                           0\n",
              "Pclass                                             2\n",
              "Name        Navratil, Mr. Michel (\"Louis M Hoffman\")\n",
              "Sex                                             male\n",
              "Age                                             36.5\n",
              "SibSp                                              0\n",
              "Parch                                              2\n",
              "Ticket                                        230080\n",
              "Fare                                              26\n",
              "Cabin                                             F2\n",
              "Embarked                                           S\n",
              "Name: 149, dtype: object"
            ]
          },
          "metadata": {},
          "execution_count": 41
        }
      ]
    },
    {
      "cell_type": "markdown",
      "metadata": {
        "id": "ACmSJOfEGRhs"
      },
      "source": [
        "7. Mostrar cuántos pasajeros viajaban en el Titanic"
      ]
    },
    {
      "cell_type": "code",
      "metadata": {
        "colab": {
          "base_uri": "https://localhost:8080/"
        },
        "id": "Te3kXzzFGz5_",
        "outputId": "e130db94-2c98-4077-d8f0-0086020c112b"
      },
      "source": [
        "len(titanic)"
      ],
      "execution_count": 42,
      "outputs": [
        {
          "output_type": "execute_result",
          "data": {
            "text/plain": [
              "891"
            ]
          },
          "metadata": {},
          "execution_count": 42
        }
      ]
    },
    {
      "cell_type": "code",
      "metadata": {
        "colab": {
          "base_uri": "https://localhost:8080/"
        },
        "id": "ade-eWlOHFD6",
        "outputId": "3402c886-39ee-4012-c3b0-6c78210c3ce3"
      },
      "source": [
        "titanic['Survived'].count()"
      ],
      "execution_count": 43,
      "outputs": [
        {
          "output_type": "execute_result",
          "data": {
            "text/plain": [
              "891"
            ]
          },
          "metadata": {},
          "execution_count": 43
        }
      ]
    },
    {
      "cell_type": "markdown",
      "metadata": {
        "id": "kNZg9IOsHtL4"
      },
      "source": [
        "8. Mostrar cuántos pasajeros sobrevivieron al naufragio"
      ]
    },
    {
      "cell_type": "code",
      "metadata": {
        "colab": {
          "base_uri": "https://localhost:8080/"
        },
        "id": "6fhuEqUAGgZO",
        "outputId": "7939f22a-a1ec-4d6c-adc9-83f7f634afa3"
      },
      "source": [
        "print(titanic['Survived'].sum())"
      ],
      "execution_count": 44,
      "outputs": [
        {
          "output_type": "stream",
          "name": "stdout",
          "text": [
            "342\n"
          ]
        }
      ]
    },
    {
      "cell_type": "markdown",
      "metadata": {
        "id": "Qe2hIomZFfjQ"
      },
      "source": [
        "9. Mostrar la suma de las tarifas (columna Fare)"
      ]
    },
    {
      "cell_type": "code",
      "metadata": {
        "colab": {
          "base_uri": "https://localhost:8080/"
        },
        "id": "rAogd101Fnom",
        "outputId": "007c5f0e-27b7-4a58-ecb7-a55f51f851bf"
      },
      "source": [
        "titanic['Fare'].sum()"
      ],
      "execution_count": 45,
      "outputs": [
        {
          "output_type": "execute_result",
          "data": {
            "text/plain": [
              "28693.9493"
            ]
          },
          "metadata": {},
          "execution_count": 45
        }
      ]
    },
    {
      "cell_type": "markdown",
      "metadata": {
        "id": "VMmLr661FuUz"
      },
      "source": [
        "10. Mostrar la edad media de los pasajeros del Titanic"
      ]
    },
    {
      "cell_type": "code",
      "metadata": {
        "colab": {
          "base_uri": "https://localhost:8080/"
        },
        "id": "z4k0FkNBFzx2",
        "outputId": "9e45630a-21e7-4996-c155-7ed39ab363a3"
      },
      "source": [
        "titanic['Age'].mean()"
      ],
      "execution_count": 46,
      "outputs": [
        {
          "output_type": "execute_result",
          "data": {
            "text/plain": [
              "29.69911764705882"
            ]
          },
          "metadata": {},
          "execution_count": 46
        }
      ]
    },
    {
      "cell_type": "markdown",
      "metadata": {
        "id": "ZeT2AYIqF5Xm"
      },
      "source": [
        "11. Mostrar la edad media de los pasajeros según su género"
      ]
    },
    {
      "cell_type": "code",
      "metadata": {
        "colab": {
          "base_uri": "https://localhost:8080/"
        },
        "id": "KXKVA2nGGBVO",
        "outputId": "328ca2a0-3293-4ed8-df17-8a26e511af1d"
      },
      "source": [
        "titanic.groupby('Sex')['Age'].mean()"
      ],
      "execution_count": 47,
      "outputs": [
        {
          "output_type": "execute_result",
          "data": {
            "text/plain": [
              "Sex\n",
              "female    27.915709\n",
              "male      30.726645\n",
              "Name: Age, dtype: float64"
            ]
          },
          "metadata": {},
          "execution_count": 47
        }
      ]
    },
    {
      "cell_type": "markdown",
      "metadata": {
        "id": "DMiVTx4OIHs4"
      },
      "source": [
        "12. Mostrar las columnas de nombre y edad de los pasajeros"
      ]
    },
    {
      "cell_type": "code",
      "metadata": {
        "colab": {
          "base_uri": "https://localhost:8080/",
          "height": 450
        },
        "id": "QAzWABhRIQ3M",
        "outputId": "86d2579a-57e0-4e29-9bf8-c718fc3e2b4a"
      },
      "source": [
        "titanic[['Name','Age']]"
      ],
      "execution_count": 48,
      "outputs": [
        {
          "output_type": "execute_result",
          "data": {
            "text/html": [
              "<div>\n",
              "<style scoped>\n",
              "    .dataframe tbody tr th:only-of-type {\n",
              "        vertical-align: middle;\n",
              "    }\n",
              "\n",
              "    .dataframe tbody tr th {\n",
              "        vertical-align: top;\n",
              "    }\n",
              "\n",
              "    .dataframe thead th {\n",
              "        text-align: right;\n",
              "    }\n",
              "</style>\n",
              "<table border=\"1\" class=\"dataframe\">\n",
              "  <thead>\n",
              "    <tr style=\"text-align: right;\">\n",
              "      <th></th>\n",
              "      <th>Name</th>\n",
              "      <th>Age</th>\n",
              "    </tr>\n",
              "    <tr>\n",
              "      <th>PassengerId</th>\n",
              "      <th></th>\n",
              "      <th></th>\n",
              "    </tr>\n",
              "  </thead>\n",
              "  <tbody>\n",
              "    <tr>\n",
              "      <th>1</th>\n",
              "      <td>Braund, Mr. Owen Harris</td>\n",
              "      <td>22.0</td>\n",
              "    </tr>\n",
              "    <tr>\n",
              "      <th>2</th>\n",
              "      <td>Cumings, Mrs. John Bradley (Florence Briggs Th...</td>\n",
              "      <td>38.0</td>\n",
              "    </tr>\n",
              "    <tr>\n",
              "      <th>3</th>\n",
              "      <td>Heikkinen, Miss. Laina</td>\n",
              "      <td>26.0</td>\n",
              "    </tr>\n",
              "    <tr>\n",
              "      <th>4</th>\n",
              "      <td>Futrelle, Mrs. Jacques Heath (Lily May Peel)</td>\n",
              "      <td>35.0</td>\n",
              "    </tr>\n",
              "    <tr>\n",
              "      <th>5</th>\n",
              "      <td>Allen, Mr. William Henry</td>\n",
              "      <td>35.0</td>\n",
              "    </tr>\n",
              "    <tr>\n",
              "      <th>...</th>\n",
              "      <td>...</td>\n",
              "      <td>...</td>\n",
              "    </tr>\n",
              "    <tr>\n",
              "      <th>887</th>\n",
              "      <td>Montvila, Rev. Juozas</td>\n",
              "      <td>27.0</td>\n",
              "    </tr>\n",
              "    <tr>\n",
              "      <th>888</th>\n",
              "      <td>Graham, Miss. Margaret Edith</td>\n",
              "      <td>19.0</td>\n",
              "    </tr>\n",
              "    <tr>\n",
              "      <th>889</th>\n",
              "      <td>Johnston, Miss. Catherine Helen \"Carrie\"</td>\n",
              "      <td>NaN</td>\n",
              "    </tr>\n",
              "    <tr>\n",
              "      <th>890</th>\n",
              "      <td>Behr, Mr. Karl Howell</td>\n",
              "      <td>26.0</td>\n",
              "    </tr>\n",
              "    <tr>\n",
              "      <th>891</th>\n",
              "      <td>Dooley, Mr. Patrick</td>\n",
              "      <td>32.0</td>\n",
              "    </tr>\n",
              "  </tbody>\n",
              "</table>\n",
              "<p>891 rows × 2 columns</p>\n",
              "</div>"
            ],
            "text/plain": [
              "                                                          Name   Age\n",
              "PassengerId                                                         \n",
              "1                                      Braund, Mr. Owen Harris  22.0\n",
              "2            Cumings, Mrs. John Bradley (Florence Briggs Th...  38.0\n",
              "3                                       Heikkinen, Miss. Laina  26.0\n",
              "4                 Futrelle, Mrs. Jacques Heath (Lily May Peel)  35.0\n",
              "5                                     Allen, Mr. William Henry  35.0\n",
              "...                                                        ...   ...\n",
              "887                                      Montvila, Rev. Juozas  27.0\n",
              "888                               Graham, Miss. Margaret Edith  19.0\n",
              "889                   Johnston, Miss. Catherine Helen \"Carrie\"   NaN\n",
              "890                                      Behr, Mr. Karl Howell  26.0\n",
              "891                                        Dooley, Mr. Patrick  32.0\n",
              "\n",
              "[891 rows x 2 columns]"
            ]
          },
          "metadata": {},
          "execution_count": 48
        }
      ]
    },
    {
      "cell_type": "markdown",
      "metadata": {
        "id": "TUI7q0eOJR2q"
      },
      "source": [
        "13. Mostrar los pasajeros mayores de 65 años"
      ]
    },
    {
      "cell_type": "code",
      "metadata": {
        "colab": {
          "base_uri": "https://localhost:8080/",
          "height": 420
        },
        "id": "aZKjCWUzJW7N",
        "outputId": "01ce79d4-098d-4044-be0a-da341f60dd55"
      },
      "source": [
        "titanic[titanic['Age']>=65]"
      ],
      "execution_count": 49,
      "outputs": [
        {
          "output_type": "execute_result",
          "data": {
            "text/html": [
              "<div>\n",
              "<style scoped>\n",
              "    .dataframe tbody tr th:only-of-type {\n",
              "        vertical-align: middle;\n",
              "    }\n",
              "\n",
              "    .dataframe tbody tr th {\n",
              "        vertical-align: top;\n",
              "    }\n",
              "\n",
              "    .dataframe thead th {\n",
              "        text-align: right;\n",
              "    }\n",
              "</style>\n",
              "<table border=\"1\" class=\"dataframe\">\n",
              "  <thead>\n",
              "    <tr style=\"text-align: right;\">\n",
              "      <th></th>\n",
              "      <th>Survived</th>\n",
              "      <th>Pclass</th>\n",
              "      <th>Name</th>\n",
              "      <th>Sex</th>\n",
              "      <th>Age</th>\n",
              "      <th>SibSp</th>\n",
              "      <th>Parch</th>\n",
              "      <th>Ticket</th>\n",
              "      <th>Fare</th>\n",
              "      <th>Cabin</th>\n",
              "      <th>Embarked</th>\n",
              "    </tr>\n",
              "    <tr>\n",
              "      <th>PassengerId</th>\n",
              "      <th></th>\n",
              "      <th></th>\n",
              "      <th></th>\n",
              "      <th></th>\n",
              "      <th></th>\n",
              "      <th></th>\n",
              "      <th></th>\n",
              "      <th></th>\n",
              "      <th></th>\n",
              "      <th></th>\n",
              "      <th></th>\n",
              "    </tr>\n",
              "  </thead>\n",
              "  <tbody>\n",
              "    <tr>\n",
              "      <th>34</th>\n",
              "      <td>0</td>\n",
              "      <td>2</td>\n",
              "      <td>Wheadon, Mr. Edward H</td>\n",
              "      <td>male</td>\n",
              "      <td>66.0</td>\n",
              "      <td>0</td>\n",
              "      <td>0</td>\n",
              "      <td>C.A. 24579</td>\n",
              "      <td>10.5000</td>\n",
              "      <td>NaN</td>\n",
              "      <td>S</td>\n",
              "    </tr>\n",
              "    <tr>\n",
              "      <th>55</th>\n",
              "      <td>0</td>\n",
              "      <td>1</td>\n",
              "      <td>Ostby, Mr. Engelhart Cornelius</td>\n",
              "      <td>male</td>\n",
              "      <td>65.0</td>\n",
              "      <td>0</td>\n",
              "      <td>1</td>\n",
              "      <td>113509</td>\n",
              "      <td>61.9792</td>\n",
              "      <td>B30</td>\n",
              "      <td>C</td>\n",
              "    </tr>\n",
              "    <tr>\n",
              "      <th>97</th>\n",
              "      <td>0</td>\n",
              "      <td>1</td>\n",
              "      <td>Goldschmidt, Mr. George B</td>\n",
              "      <td>male</td>\n",
              "      <td>71.0</td>\n",
              "      <td>0</td>\n",
              "      <td>0</td>\n",
              "      <td>PC 17754</td>\n",
              "      <td>34.6542</td>\n",
              "      <td>A5</td>\n",
              "      <td>C</td>\n",
              "    </tr>\n",
              "    <tr>\n",
              "      <th>117</th>\n",
              "      <td>0</td>\n",
              "      <td>3</td>\n",
              "      <td>Connors, Mr. Patrick</td>\n",
              "      <td>male</td>\n",
              "      <td>70.5</td>\n",
              "      <td>0</td>\n",
              "      <td>0</td>\n",
              "      <td>370369</td>\n",
              "      <td>7.7500</td>\n",
              "      <td>NaN</td>\n",
              "      <td>Q</td>\n",
              "    </tr>\n",
              "    <tr>\n",
              "      <th>281</th>\n",
              "      <td>0</td>\n",
              "      <td>3</td>\n",
              "      <td>Duane, Mr. Frank</td>\n",
              "      <td>male</td>\n",
              "      <td>65.0</td>\n",
              "      <td>0</td>\n",
              "      <td>0</td>\n",
              "      <td>336439</td>\n",
              "      <td>7.7500</td>\n",
              "      <td>NaN</td>\n",
              "      <td>Q</td>\n",
              "    </tr>\n",
              "    <tr>\n",
              "      <th>457</th>\n",
              "      <td>0</td>\n",
              "      <td>1</td>\n",
              "      <td>Millet, Mr. Francis Davis</td>\n",
              "      <td>male</td>\n",
              "      <td>65.0</td>\n",
              "      <td>0</td>\n",
              "      <td>0</td>\n",
              "      <td>13509</td>\n",
              "      <td>26.5500</td>\n",
              "      <td>E38</td>\n",
              "      <td>S</td>\n",
              "    </tr>\n",
              "    <tr>\n",
              "      <th>494</th>\n",
              "      <td>0</td>\n",
              "      <td>1</td>\n",
              "      <td>Artagaveytia, Mr. Ramon</td>\n",
              "      <td>male</td>\n",
              "      <td>71.0</td>\n",
              "      <td>0</td>\n",
              "      <td>0</td>\n",
              "      <td>PC 17609</td>\n",
              "      <td>49.5042</td>\n",
              "      <td>NaN</td>\n",
              "      <td>C</td>\n",
              "    </tr>\n",
              "    <tr>\n",
              "      <th>631</th>\n",
              "      <td>1</td>\n",
              "      <td>1</td>\n",
              "      <td>Barkworth, Mr. Algernon Henry Wilson</td>\n",
              "      <td>male</td>\n",
              "      <td>80.0</td>\n",
              "      <td>0</td>\n",
              "      <td>0</td>\n",
              "      <td>27042</td>\n",
              "      <td>30.0000</td>\n",
              "      <td>A23</td>\n",
              "      <td>S</td>\n",
              "    </tr>\n",
              "    <tr>\n",
              "      <th>673</th>\n",
              "      <td>0</td>\n",
              "      <td>2</td>\n",
              "      <td>Mitchell, Mr. Henry Michael</td>\n",
              "      <td>male</td>\n",
              "      <td>70.0</td>\n",
              "      <td>0</td>\n",
              "      <td>0</td>\n",
              "      <td>C.A. 24580</td>\n",
              "      <td>10.5000</td>\n",
              "      <td>NaN</td>\n",
              "      <td>S</td>\n",
              "    </tr>\n",
              "    <tr>\n",
              "      <th>746</th>\n",
              "      <td>0</td>\n",
              "      <td>1</td>\n",
              "      <td>Crosby, Capt. Edward Gifford</td>\n",
              "      <td>male</td>\n",
              "      <td>70.0</td>\n",
              "      <td>1</td>\n",
              "      <td>1</td>\n",
              "      <td>WE/P 5735</td>\n",
              "      <td>71.0000</td>\n",
              "      <td>B22</td>\n",
              "      <td>S</td>\n",
              "    </tr>\n",
              "    <tr>\n",
              "      <th>852</th>\n",
              "      <td>0</td>\n",
              "      <td>3</td>\n",
              "      <td>Svensson, Mr. Johan</td>\n",
              "      <td>male</td>\n",
              "      <td>74.0</td>\n",
              "      <td>0</td>\n",
              "      <td>0</td>\n",
              "      <td>347060</td>\n",
              "      <td>7.7750</td>\n",
              "      <td>NaN</td>\n",
              "      <td>S</td>\n",
              "    </tr>\n",
              "  </tbody>\n",
              "</table>\n",
              "</div>"
            ],
            "text/plain": [
              "             Survived  Pclass  ... Cabin Embarked\n",
              "PassengerId                    ...               \n",
              "34                  0       2  ...   NaN        S\n",
              "55                  0       1  ...   B30        C\n",
              "97                  0       1  ...    A5        C\n",
              "117                 0       3  ...   NaN        Q\n",
              "281                 0       3  ...   NaN        Q\n",
              "457                 0       1  ...   E38        S\n",
              "494                 0       1  ...   NaN        C\n",
              "631                 1       1  ...   A23        S\n",
              "673                 0       2  ...   NaN        S\n",
              "746                 0       1  ...   B22        S\n",
              "852                 0       3  ...   NaN        S\n",
              "\n",
              "[11 rows x 11 columns]"
            ]
          },
          "metadata": {},
          "execution_count": 49
        }
      ]
    },
    {
      "cell_type": "markdown",
      "metadata": {
        "id": "-5UUR3eLeTu8"
      },
      "source": [
        "14. Mostrar por pantalla las filas pares del DataFrame."
      ]
    },
    {
      "cell_type": "code",
      "metadata": {
        "id": "2yP63nRNxwrk",
        "colab": {
          "base_uri": "https://localhost:8080/"
        },
        "outputId": "d67431a6-bd75-444e-d015-11d92d983891"
      },
      "source": [
        "# Mostrar por pantalla las filas pares del DataFrame.\n",
        "print(titanic.iloc[range(0,titanic.shape[0],2)])"
      ],
      "execution_count": 50,
      "outputs": [
        {
          "output_type": "stream",
          "name": "stdout",
          "text": [
            "             Survived  Pclass  ... Cabin Embarked\n",
            "PassengerId                    ...               \n",
            "1                   0       3  ...   NaN        S\n",
            "3                   1       3  ...   NaN        S\n",
            "5                   0       3  ...   NaN        S\n",
            "7                   0       1  ...   E46        S\n",
            "9                   1       3  ...   NaN        S\n",
            "...               ...     ...  ...   ...      ...\n",
            "883                 0       3  ...   NaN        S\n",
            "885                 0       3  ...   NaN        S\n",
            "887                 0       2  ...   NaN        S\n",
            "889                 0       3  ...   NaN        S\n",
            "891                 0       3  ...   NaN        Q\n",
            "\n",
            "[446 rows x 11 columns]\n"
          ]
        }
      ]
    },
    {
      "cell_type": "markdown",
      "metadata": {
        "id": "-QJjzjrmecTM"
      },
      "source": [
        "15. Mostrar los nombres de las personas que iban en primera clase ordenadas alfabéticamente."
      ]
    },
    {
      "cell_type": "code",
      "metadata": {
        "id": "dF2R24Prxwrk",
        "colab": {
          "base_uri": "https://localhost:8080/"
        },
        "outputId": "d45d3af6-2b15-4a76-ad65-425340513711"
      },
      "source": [
        "# Mostrar los nombres de las personas que iban en primera clase ordenadas alfabéticamente.\n",
        "print(titanic[titanic[\"Pclass\"]==1]['Name'].sort_values())"
      ],
      "execution_count": 51,
      "outputs": [
        {
          "output_type": "stream",
          "name": "stdout",
          "text": [
            "PassengerId\n",
            "731                      Allen, Miss. Elisabeth Walton\n",
            "306                     Allison, Master. Hudson Trevor\n",
            "298                       Allison, Miss. Helen Loraine\n",
            "499    Allison, Mrs. Hudson J C (Bessie Waldo Daniels)\n",
            "461                                Anderson, Mr. Harry\n",
            "                            ...                       \n",
            "156                        Williams, Mr. Charles Duane\n",
            "352             Williams-Lambert, Mr. Fletcher Fellows\n",
            "56                                   Woolner, Mr. Hugh\n",
            "556                                 Wright, Mr. George\n",
            "326                           Young, Miss. Marie Grice\n",
            "Name: Name, Length: 216, dtype: object\n"
          ]
        }
      ]
    },
    {
      "cell_type": "markdown",
      "metadata": {
        "id": "MIu_cMbPegKs"
      },
      "source": [
        "16. Mostrar por pantalla el porcentaje de personas que sobrevivieron y murieron"
      ]
    },
    {
      "cell_type": "code",
      "metadata": {
        "id": "xs4swsfxxwrl",
        "colab": {
          "base_uri": "https://localhost:8080/"
        },
        "outputId": "05aeb940-4f2d-4338-e0b1-5f9ba52f440b"
      },
      "source": [
        "# Mostrar por pantalla el porcentaje de personas que sobrevivieron y murieron\n",
        "print(titanic['Survived'].value_counts()/titanic['Survived'].count() * 100)\n",
        "\n",
        "# Alternativa\n",
        "print(titanic['Survived'].value_counts(normalize=True) * 100)\n"
      ],
      "execution_count": 52,
      "outputs": [
        {
          "output_type": "stream",
          "name": "stdout",
          "text": [
            "0    61.616162\n",
            "1    38.383838\n",
            "Name: Survived, dtype: float64\n",
            "0    61.616162\n",
            "1    38.383838\n",
            "Name: Survived, dtype: float64\n"
          ]
        }
      ]
    },
    {
      "cell_type": "markdown",
      "metadata": {
        "id": "pdYUqeckemiE"
      },
      "source": [
        "17. Mostrar por pantalla el porcentaje de personas que sobrevivieron en cada clase"
      ]
    },
    {
      "cell_type": "code",
      "metadata": {
        "id": "Hqj3lWhdxwrm",
        "colab": {
          "base_uri": "https://localhost:8080/"
        },
        "outputId": "c670db3f-89a5-48ad-9dff-1524d1a87cbf"
      },
      "source": [
        "#Mostrar por pantalla el porcentaje de personas que sobrevivieron en cada clase\n",
        "print(titanic.groupby('Pclass')['Survived'].value_counts(normalize=True))"
      ],
      "execution_count": 53,
      "outputs": [
        {
          "output_type": "stream",
          "name": "stdout",
          "text": [
            "Pclass  Survived\n",
            "1       1           0.629630\n",
            "        0           0.370370\n",
            "2       0           0.527174\n",
            "        1           0.472826\n",
            "3       0           0.757637\n",
            "        1           0.242363\n",
            "Name: Survived, dtype: float64\n"
          ]
        }
      ]
    },
    {
      "cell_type": "markdown",
      "metadata": {
        "id": "vNpscbXXer_M"
      },
      "source": [
        "18. Eliminar del DataFrame los pasajeros con edad desconocida."
      ]
    },
    {
      "cell_type": "code",
      "metadata": {
        "id": "awZsRXLNxwrn",
        "colab": {
          "base_uri": "https://localhost:8080/",
          "height": 500
        },
        "outputId": "5137c413-d4ee-4127-8fda-2cc044dd3994"
      },
      "source": [
        "# Eliminar del DataFrame los pasajeros con edad desconocida.\n",
        "titanic.dropna(subset=['Age'])\n",
        "\n",
        "# Alternativa \n",
        "# titanic = titanic[titanic['Age'].notna()]\n",
        "\n"
      ],
      "execution_count": 54,
      "outputs": [
        {
          "output_type": "execute_result",
          "data": {
            "text/html": [
              "<div>\n",
              "<style scoped>\n",
              "    .dataframe tbody tr th:only-of-type {\n",
              "        vertical-align: middle;\n",
              "    }\n",
              "\n",
              "    .dataframe tbody tr th {\n",
              "        vertical-align: top;\n",
              "    }\n",
              "\n",
              "    .dataframe thead th {\n",
              "        text-align: right;\n",
              "    }\n",
              "</style>\n",
              "<table border=\"1\" class=\"dataframe\">\n",
              "  <thead>\n",
              "    <tr style=\"text-align: right;\">\n",
              "      <th></th>\n",
              "      <th>Survived</th>\n",
              "      <th>Pclass</th>\n",
              "      <th>Name</th>\n",
              "      <th>Sex</th>\n",
              "      <th>Age</th>\n",
              "      <th>SibSp</th>\n",
              "      <th>Parch</th>\n",
              "      <th>Ticket</th>\n",
              "      <th>Fare</th>\n",
              "      <th>Cabin</th>\n",
              "      <th>Embarked</th>\n",
              "    </tr>\n",
              "    <tr>\n",
              "      <th>PassengerId</th>\n",
              "      <th></th>\n",
              "      <th></th>\n",
              "      <th></th>\n",
              "      <th></th>\n",
              "      <th></th>\n",
              "      <th></th>\n",
              "      <th></th>\n",
              "      <th></th>\n",
              "      <th></th>\n",
              "      <th></th>\n",
              "      <th></th>\n",
              "    </tr>\n",
              "  </thead>\n",
              "  <tbody>\n",
              "    <tr>\n",
              "      <th>1</th>\n",
              "      <td>0</td>\n",
              "      <td>3</td>\n",
              "      <td>Braund, Mr. Owen Harris</td>\n",
              "      <td>male</td>\n",
              "      <td>22.0</td>\n",
              "      <td>1</td>\n",
              "      <td>0</td>\n",
              "      <td>A/5 21171</td>\n",
              "      <td>7.2500</td>\n",
              "      <td>NaN</td>\n",
              "      <td>S</td>\n",
              "    </tr>\n",
              "    <tr>\n",
              "      <th>2</th>\n",
              "      <td>1</td>\n",
              "      <td>1</td>\n",
              "      <td>Cumings, Mrs. John Bradley (Florence Briggs Th...</td>\n",
              "      <td>female</td>\n",
              "      <td>38.0</td>\n",
              "      <td>1</td>\n",
              "      <td>0</td>\n",
              "      <td>PC 17599</td>\n",
              "      <td>71.2833</td>\n",
              "      <td>C85</td>\n",
              "      <td>C</td>\n",
              "    </tr>\n",
              "    <tr>\n",
              "      <th>3</th>\n",
              "      <td>1</td>\n",
              "      <td>3</td>\n",
              "      <td>Heikkinen, Miss. Laina</td>\n",
              "      <td>female</td>\n",
              "      <td>26.0</td>\n",
              "      <td>0</td>\n",
              "      <td>0</td>\n",
              "      <td>STON/O2. 3101282</td>\n",
              "      <td>7.9250</td>\n",
              "      <td>NaN</td>\n",
              "      <td>S</td>\n",
              "    </tr>\n",
              "    <tr>\n",
              "      <th>4</th>\n",
              "      <td>1</td>\n",
              "      <td>1</td>\n",
              "      <td>Futrelle, Mrs. Jacques Heath (Lily May Peel)</td>\n",
              "      <td>female</td>\n",
              "      <td>35.0</td>\n",
              "      <td>1</td>\n",
              "      <td>0</td>\n",
              "      <td>113803</td>\n",
              "      <td>53.1000</td>\n",
              "      <td>C123</td>\n",
              "      <td>S</td>\n",
              "    </tr>\n",
              "    <tr>\n",
              "      <th>5</th>\n",
              "      <td>0</td>\n",
              "      <td>3</td>\n",
              "      <td>Allen, Mr. William Henry</td>\n",
              "      <td>male</td>\n",
              "      <td>35.0</td>\n",
              "      <td>0</td>\n",
              "      <td>0</td>\n",
              "      <td>373450</td>\n",
              "      <td>8.0500</td>\n",
              "      <td>NaN</td>\n",
              "      <td>S</td>\n",
              "    </tr>\n",
              "    <tr>\n",
              "      <th>...</th>\n",
              "      <td>...</td>\n",
              "      <td>...</td>\n",
              "      <td>...</td>\n",
              "      <td>...</td>\n",
              "      <td>...</td>\n",
              "      <td>...</td>\n",
              "      <td>...</td>\n",
              "      <td>...</td>\n",
              "      <td>...</td>\n",
              "      <td>...</td>\n",
              "      <td>...</td>\n",
              "    </tr>\n",
              "    <tr>\n",
              "      <th>886</th>\n",
              "      <td>0</td>\n",
              "      <td>3</td>\n",
              "      <td>Rice, Mrs. William (Margaret Norton)</td>\n",
              "      <td>female</td>\n",
              "      <td>39.0</td>\n",
              "      <td>0</td>\n",
              "      <td>5</td>\n",
              "      <td>382652</td>\n",
              "      <td>29.1250</td>\n",
              "      <td>NaN</td>\n",
              "      <td>Q</td>\n",
              "    </tr>\n",
              "    <tr>\n",
              "      <th>887</th>\n",
              "      <td>0</td>\n",
              "      <td>2</td>\n",
              "      <td>Montvila, Rev. Juozas</td>\n",
              "      <td>male</td>\n",
              "      <td>27.0</td>\n",
              "      <td>0</td>\n",
              "      <td>0</td>\n",
              "      <td>211536</td>\n",
              "      <td>13.0000</td>\n",
              "      <td>NaN</td>\n",
              "      <td>S</td>\n",
              "    </tr>\n",
              "    <tr>\n",
              "      <th>888</th>\n",
              "      <td>1</td>\n",
              "      <td>1</td>\n",
              "      <td>Graham, Miss. Margaret Edith</td>\n",
              "      <td>female</td>\n",
              "      <td>19.0</td>\n",
              "      <td>0</td>\n",
              "      <td>0</td>\n",
              "      <td>112053</td>\n",
              "      <td>30.0000</td>\n",
              "      <td>B42</td>\n",
              "      <td>S</td>\n",
              "    </tr>\n",
              "    <tr>\n",
              "      <th>890</th>\n",
              "      <td>1</td>\n",
              "      <td>1</td>\n",
              "      <td>Behr, Mr. Karl Howell</td>\n",
              "      <td>male</td>\n",
              "      <td>26.0</td>\n",
              "      <td>0</td>\n",
              "      <td>0</td>\n",
              "      <td>111369</td>\n",
              "      <td>30.0000</td>\n",
              "      <td>C148</td>\n",
              "      <td>C</td>\n",
              "    </tr>\n",
              "    <tr>\n",
              "      <th>891</th>\n",
              "      <td>0</td>\n",
              "      <td>3</td>\n",
              "      <td>Dooley, Mr. Patrick</td>\n",
              "      <td>male</td>\n",
              "      <td>32.0</td>\n",
              "      <td>0</td>\n",
              "      <td>0</td>\n",
              "      <td>370376</td>\n",
              "      <td>7.7500</td>\n",
              "      <td>NaN</td>\n",
              "      <td>Q</td>\n",
              "    </tr>\n",
              "  </tbody>\n",
              "</table>\n",
              "<p>714 rows × 11 columns</p>\n",
              "</div>"
            ],
            "text/plain": [
              "             Survived  Pclass  ... Cabin Embarked\n",
              "PassengerId                    ...               \n",
              "1                   0       3  ...   NaN        S\n",
              "2                   1       1  ...   C85        C\n",
              "3                   1       3  ...   NaN        S\n",
              "4                   1       1  ...  C123        S\n",
              "5                   0       3  ...   NaN        S\n",
              "...               ...     ...  ...   ...      ...\n",
              "886                 0       3  ...   NaN        Q\n",
              "887                 0       2  ...   NaN        S\n",
              "888                 1       1  ...   B42        S\n",
              "890                 1       1  ...  C148        C\n",
              "891                 0       3  ...   NaN        Q\n",
              "\n",
              "[714 rows x 11 columns]"
            ]
          },
          "metadata": {},
          "execution_count": 54
        }
      ]
    },
    {
      "cell_type": "markdown",
      "metadata": {
        "id": "VKBnJAUTezAV"
      },
      "source": [
        "19. Mostrar la edad media de las mujeres que viajaban en cada clase."
      ]
    },
    {
      "cell_type": "code",
      "metadata": {
        "id": "wM9aQCTaxwro",
        "colab": {
          "base_uri": "https://localhost:8080/"
        },
        "outputId": "7b6b42ad-a44e-485e-acb4-c6500d7b2e00"
      },
      "source": [
        "# Mostrar la edad media de las mujeres que viajaban en cada clase.\n",
        "titanic[titanic['Sex']=='female'].groupby('Pclass')['Age'].mean()"
      ],
      "execution_count": 55,
      "outputs": [
        {
          "output_type": "execute_result",
          "data": {
            "text/plain": [
              "Pclass\n",
              "1    34.611765\n",
              "2    28.722973\n",
              "3    21.750000\n",
              "Name: Age, dtype: float64"
            ]
          },
          "metadata": {},
          "execution_count": 55
        }
      ]
    },
    {
      "cell_type": "code",
      "metadata": {
        "colab": {
          "base_uri": "https://localhost:8080/"
        },
        "id": "UYKgi_3BLSNz",
        "outputId": "121abc4b-6390-46f9-b3c8-f9f391b42bcf"
      },
      "source": [
        "#De otro modo\n",
        "print(titanic.groupby(['Pclass','Sex'])['Age'].mean().unstack()['female'])"
      ],
      "execution_count": 56,
      "outputs": [
        {
          "output_type": "stream",
          "name": "stdout",
          "text": [
            "Pclass\n",
            "1    34.611765\n",
            "2    28.722973\n",
            "3    21.750000\n",
            "Name: female, dtype: float64\n"
          ]
        }
      ]
    },
    {
      "cell_type": "markdown",
      "metadata": {
        "id": "zo0TbpGAe2PE"
      },
      "source": [
        "20. Añadir una nueva columna booleana para ver si el pasajero era menor de edad o no."
      ]
    },
    {
      "cell_type": "code",
      "metadata": {
        "id": "I6hfLaMExwro"
      },
      "source": [
        "# Añadir una nueva columna booleana para ver si el pasajero era menor de edad o no.\n",
        "titanic['Young'] = titanic['Age'] < 18"
      ],
      "execution_count": 57,
      "outputs": []
    },
    {
      "cell_type": "markdown",
      "metadata": {
        "id": "PBO7_Wmie7gM"
      },
      "source": [
        "21. Mostrar el porcentaje de menores y mayores de edad que sobrevivieron en cada clase."
      ]
    },
    {
      "cell_type": "code",
      "metadata": {
        "id": "I2Iz3yHJxwro",
        "colab": {
          "base_uri": "https://localhost:8080/"
        },
        "outputId": "63d57e5f-f86f-434c-a16a-5206f0c2f0c2"
      },
      "source": [
        "# Mostrar el porcentaje de menores y mayores de edad que sobrevivieron en cada clase.\n",
        "print(titanic.groupby(['Pclass', 'Young'])['Survived'].value_counts(normalize = True) * 100)"
      ],
      "execution_count": 58,
      "outputs": [
        {
          "output_type": "stream",
          "name": "stdout",
          "text": [
            "Pclass  Young  Survived\n",
            "1       False  1           61.274510\n",
            "               0           38.725490\n",
            "        True   1           91.666667\n",
            "               0            8.333333\n",
            "2       False  0           59.006211\n",
            "               1           40.993789\n",
            "        True   1           91.304348\n",
            "               0            8.695652\n",
            "3       False  0           78.208232\n",
            "               1           21.791768\n",
            "        True   0           62.820513\n",
            "               1           37.179487\n",
            "Name: Survived, dtype: float64\n"
          ]
        }
      ]
    },
    {
      "cell_type": "markdown",
      "metadata": {
        "id": "51Y8rIAQKWca"
      },
      "source": [
        "22. Añadir una columna con la longitud de caracteres del nombre del pasajero"
      ]
    },
    {
      "cell_type": "code",
      "metadata": {
        "id": "6g_eK6R7xwrp",
        "colab": {
          "base_uri": "https://localhost:8080/"
        },
        "outputId": "2e041077-59d4-4546-986e-8bcb688d93f1"
      },
      "source": [
        "titanic['Longitud_nombre']=titanic['Name'].apply(lambda x: len(x))\n",
        "titanic['Longitud_nombre']"
      ],
      "execution_count": 59,
      "outputs": [
        {
          "output_type": "execute_result",
          "data": {
            "text/plain": [
              "PassengerId\n",
              "1      23\n",
              "2      51\n",
              "3      22\n",
              "4      44\n",
              "5      24\n",
              "       ..\n",
              "887    21\n",
              "888    28\n",
              "889    40\n",
              "890    21\n",
              "891    19\n",
              "Name: Longitud_nombre, Length: 891, dtype: int64"
            ]
          },
          "metadata": {},
          "execution_count": 59
        }
      ]
    }
  ]
}